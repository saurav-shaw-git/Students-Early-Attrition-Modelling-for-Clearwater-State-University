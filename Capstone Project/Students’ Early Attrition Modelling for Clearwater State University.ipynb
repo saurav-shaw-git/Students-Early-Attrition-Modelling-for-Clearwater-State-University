{
 "cells": [
  {
   "cell_type": "markdown",
   "id": "08877522",
   "metadata": {},
   "source": [
    "# Prepare Data"
   ]
  },
  {
   "cell_type": "markdown",
   "id": "abb5bd74",
   "metadata": {},
   "source": [
    "# Import"
   ]
  },
  {
   "cell_type": "markdown",
   "id": "d8591072",
   "metadata": {},
   "source": [
    "### Libraries"
   ]
  },
  {
   "cell_type": "code",
   "execution_count": 1,
   "id": "48cb9ffb",
   "metadata": {},
   "outputs": [],
   "source": [
    "import warnings   # to get ride of future warning\n",
    "\n",
    "import pandas as pd  # data wrangling\n",
    "\n",
    "import numpy as np  # mathematics\n",
    "\n",
    "import matplotlib.pyplot as plt  # Visualisation\n",
    "import seaborn as sns   # Visualisation\n",
    "import plotly.express as px  # Visualisation\n",
    "import plotly.graph_objects as go   # Visualisation\n",
    "\n",
    "from sklearn.model_selection import train_test_split  # data split\n",
    "from sklearn.impute import SimpleImputer               # Imputation / Transformer\n",
    "from category_encoders import OneHotEncoder , OrdinalEncoder  # For Encoding / Transformer\n",
    "\n",
    "from sklearn.pipeline import Pipeline, make_pipeline    # help in steps to be mentain\n",
    "\n",
    "from sklearn.linear_model import LogisticRegression    # Model 1 building\n",
    "from sklearn.tree import DecisionTreeClassifier,plot_tree # Model 2 builiding\n",
    "from sklearn.ensemble import RandomForestClassifier # Model # building\n",
    "\n",
    "from sklearn.metrics import ConfusionMatrixDisplay\n",
    "from sklearn.model_selection import GridSearchCV, cross_val_score, train_test_split\n",
    "\n",
    "\n",
    "from sklearn.metrics import mean_absolute_error        # To Evaluate our model prediction \n",
    "from sklearn.metrics import accuracy_score   # To check Model accuracy score.\n",
    "\n",
    "warnings.simplefilter(action=\"ignore\",category=FutureWarning) # to get ride of future warning"
   ]
  },
  {
   "cell_type": "markdown",
   "id": "ba60d0a9",
   "metadata": {},
   "source": [
    "### Data Frame"
   ]
  },
  {
   "cell_type": "code",
   "execution_count": 156,
   "id": "cfa0c9de",
   "metadata": {},
   "outputs": [],
   "source": [
    "def wrangle(filename):\n",
    "    \n",
    "    # Importing Data as Data Frame\n",
    "    df = pd.read_excel(filename, index_col=\"STUDENT IDENTIFIER\").sort_index()\n",
    "    \n",
    "    \n",
    "    #Create a new feature called attrition from the RETURNED_2ND_YR\n",
    "    df['Attrition']=df['RETURNED_2ND_YR']\n",
    "\n",
    "    #dropping RETURNED_2ND_YR\n",
    "    df.drop('RETURNED_2ND_YR',axis=1,inplace=True)\n",
    "    \n",
    "    #swapping 1&0 in Attrition, so 1 represents students who discontinued\n",
    "    df['Attrition']=df['Attrition'].apply(lambda x: 0 if x == 1 else 1)\n",
    "    \n",
    "    # Drop Column Having more than 50% values as NaN.\n",
    "    df = df.drop(columns= [\"CORE_COURSE_NAME_5_F\",\n",
    "                           \"CORE_COURSE_GRADE_5_F\",\n",
    "                           \"CORE_COURSE_GRADE_5_F\",\n",
    "                           \"CORE_COURSE_NAME_6_F\",\n",
    "                           \"CORE_COURSE_GRADE_6_F\",\n",
    "                           \"CORE_COURSE_NAME_4_S\",\n",
    "                           \"CORE_COURSE_GRADE_4_S\",\n",
    "                           \"CORE_COURSE_NAME_5_S\",\n",
    "                           \"CORE_COURSE_GRADE_5_S\",\n",
    "                           \"CORE_COURSE_NAME_6_S\",\n",
    "                           \"CORE_COURSE_GRADE_6_S\"\n",
    "                          ])\n",
    "    \n",
    "    # Drop Column looks not having much use in model prediction.\n",
    "    df = df.drop(columns= [\"CORE_COURSE_GRADE_1_F\",\n",
    "                           \"CORE_COURSE_GRADE_2_F\",\n",
    "                           \"CORE_COURSE_GRADE_3_F\",\n",
    "                           \"CORE_COURSE_GRADE_4_F\",\n",
    "                           \"CORE_COURSE_GRADE_1_S\",\n",
    "                           \"CORE_COURSE_GRADE_2_S\",\n",
    "                           \"CORE_COURSE_GRADE_3_S\"\n",
    "                          ])\n",
    "    \n",
    "    \n",
    "    # Drop \"STDNT_MINOR\" Column as have 92% student have no minor subject\n",
    "    df = df.drop(columns = [\"STDNT_MINOR\"])\n",
    "    \n",
    "    # Drop Column with High Cardinality\n",
    "    df = df.drop(columns = [\"HIGH_SCHL_NAME\",\n",
    "                            \"FATHER_HI_EDU_CD\",\n",
    "                            \"MOTHER_HI_EDU_CD\",\n",
    "                            \"CORE_COURSE_NAME_1_S\",\n",
    "                            \"CORE_COURSE_NAME_4_F\",\n",
    "                            \"CORE_COURSE_NAME_3_S\",\n",
    "                            \"CORE_COURSE_NAME_1_F\",\n",
    "                            \"CORE_COURSE_NAME_2_S\",\n",
    "                            \"CORE_COURSE_NAME_2_F\",\n",
    "                            \"CORE_COURSE_NAME_3_F\"\n",
    "                           ])\n",
    "    \n",
    "    # Drop Column with Multicolinearity\n",
    "    \n",
    "    df = df.drop(columns = [\"FATHER_HI_EDU_DESC\",\n",
    "                            \"MOTHER_HI_EDU_DESC\",\n",
    "                            \"DEGREE_GROUP_DESC\",\n",
    "                            \"STDNT_TEST_ENTRANCE1\",\n",
    "                            \"STDNT_TEST_ENTRANCE2\",\n",
    "                            \"GROSS_FIN_NEED\",\n",
    "                            \"FIRST_TERM\",\n",
    "                            \"SECOND_TERM_ATTEMPT_HRS\"\n",
    "                           ])\n",
    "\n",
    "    \n",
    "    return df"
   ]
  },
  {
   "cell_type": "code",
   "execution_count": 157,
   "id": "fc954d44",
   "metadata": {},
   "outputs": [],
   "source": [
    "df = wrangle(\"Student Applications & Performance.xlsx\")"
   ]
  },
  {
   "cell_type": "code",
   "execution_count": 11,
   "id": "356c5f15",
   "metadata": {},
   "outputs": [],
   "source": [
    "# df = pd.read_excel(\"Student Applications & Performance.xlsx\")"
   ]
  },
  {
   "cell_type": "code",
   "execution_count": 12,
   "id": "c38f520d",
   "metadata": {},
   "outputs": [
    {
     "data": {
      "text/plain": [
       "(3400, 56)"
      ]
     },
     "execution_count": 12,
     "metadata": {},
     "output_type": "execute_result"
    }
   ],
   "source": [
    "df.shape"
   ]
  },
  {
   "cell_type": "code",
   "execution_count": 13,
   "id": "38292661",
   "metadata": {
    "scrolled": false
   },
   "outputs": [
    {
     "data": {
      "text/html": [
       "<div>\n",
       "<style scoped>\n",
       "    .dataframe tbody tr th:only-of-type {\n",
       "        vertical-align: middle;\n",
       "    }\n",
       "\n",
       "    .dataframe tbody tr th {\n",
       "        vertical-align: top;\n",
       "    }\n",
       "\n",
       "    .dataframe thead th {\n",
       "        text-align: right;\n",
       "    }\n",
       "</style>\n",
       "<table border=\"1\" class=\"dataframe\">\n",
       "  <thead>\n",
       "    <tr style=\"text-align: right;\">\n",
       "      <th></th>\n",
       "      <th>STUDENT IDENTIFIER</th>\n",
       "      <th>STDNT_AGE</th>\n",
       "      <th>STDNT_GENDER</th>\n",
       "      <th>STDNT_BACKGROUND</th>\n",
       "      <th>IN_STATE_FLAG</th>\n",
       "      <th>INTERNATIONAL_STS</th>\n",
       "      <th>STDNT_MAJOR</th>\n",
       "      <th>STDNT_MINOR</th>\n",
       "      <th>STDNT_TEST_ENTRANCE1</th>\n",
       "      <th>STDNT_TEST_ENTRANCE2</th>\n",
       "      <th>...</th>\n",
       "      <th>DEGREE_GROUP_CD</th>\n",
       "      <th>DEGREE_GROUP_DESC</th>\n",
       "      <th>FIRST_TERM_ATTEMPT_HRS</th>\n",
       "      <th>FIRST_TERM_EARNED_HRS</th>\n",
       "      <th>SECOND_TERM_ATTEMPT_HRS</th>\n",
       "      <th>SECOND_TERM_EARNED_HRS</th>\n",
       "      <th>GROSS_FIN_NEED</th>\n",
       "      <th>COST_OF_ATTEND</th>\n",
       "      <th>EST_FAM_CONTRIBUTION</th>\n",
       "      <th>UNMET_NEED</th>\n",
       "    </tr>\n",
       "  </thead>\n",
       "  <tbody>\n",
       "    <tr>\n",
       "      <th>0</th>\n",
       "      <td>7808615</td>\n",
       "      <td>18</td>\n",
       "      <td>F</td>\n",
       "      <td>BGD 1</td>\n",
       "      <td>Y</td>\n",
       "      <td>N</td>\n",
       "      <td>Undeclared</td>\n",
       "      <td>N</td>\n",
       "      <td>NaN</td>\n",
       "      <td>1150.0</td>\n",
       "      <td>...</td>\n",
       "      <td>B</td>\n",
       "      <td>Bachelors</td>\n",
       "      <td>16</td>\n",
       "      <td>16</td>\n",
       "      <td>14.0</td>\n",
       "      <td>14.0</td>\n",
       "      <td>0</td>\n",
       "      <td>0</td>\n",
       "      <td>0</td>\n",
       "      <td>0.0</td>\n",
       "    </tr>\n",
       "    <tr>\n",
       "      <th>1</th>\n",
       "      <td>7830063</td>\n",
       "      <td>19</td>\n",
       "      <td>F</td>\n",
       "      <td>BGD 1</td>\n",
       "      <td>N</td>\n",
       "      <td>N</td>\n",
       "      <td>Undeclared</td>\n",
       "      <td>N</td>\n",
       "      <td>26.0</td>\n",
       "      <td>NaN</td>\n",
       "      <td>...</td>\n",
       "      <td>B</td>\n",
       "      <td>Bachelors</td>\n",
       "      <td>18</td>\n",
       "      <td>18</td>\n",
       "      <td>18.0</td>\n",
       "      <td>18.0</td>\n",
       "      <td>570000</td>\n",
       "      <td>1355760</td>\n",
       "      <td>785760</td>\n",
       "      <td>459300.0</td>\n",
       "    </tr>\n",
       "    <tr>\n",
       "      <th>2</th>\n",
       "      <td>7847538</td>\n",
       "      <td>18</td>\n",
       "      <td>M</td>\n",
       "      <td>BGD 1</td>\n",
       "      <td>Y</td>\n",
       "      <td>N</td>\n",
       "      <td>Mathematics</td>\n",
       "      <td>N</td>\n",
       "      <td>NaN</td>\n",
       "      <td>1020.0</td>\n",
       "      <td>...</td>\n",
       "      <td>B</td>\n",
       "      <td>Bachelors</td>\n",
       "      <td>15</td>\n",
       "      <td>15</td>\n",
       "      <td>14.0</td>\n",
       "      <td>14.0</td>\n",
       "      <td>0</td>\n",
       "      <td>0</td>\n",
       "      <td>0</td>\n",
       "      <td>0.0</td>\n",
       "    </tr>\n",
       "    <tr>\n",
       "      <th>3</th>\n",
       "      <td>8006429</td>\n",
       "      <td>18</td>\n",
       "      <td>M</td>\n",
       "      <td>BGD 1</td>\n",
       "      <td>Y</td>\n",
       "      <td>N</td>\n",
       "      <td>Undeclared</td>\n",
       "      <td>N</td>\n",
       "      <td>NaN</td>\n",
       "      <td>1210.0</td>\n",
       "      <td>...</td>\n",
       "      <td>B</td>\n",
       "      <td>Bachelors</td>\n",
       "      <td>13</td>\n",
       "      <td>13</td>\n",
       "      <td>14.0</td>\n",
       "      <td>14.0</td>\n",
       "      <td>0</td>\n",
       "      <td>0</td>\n",
       "      <td>0</td>\n",
       "      <td>0.0</td>\n",
       "    </tr>\n",
       "    <tr>\n",
       "      <th>4</th>\n",
       "      <td>7962680</td>\n",
       "      <td>18</td>\n",
       "      <td>F</td>\n",
       "      <td>BGD 1</td>\n",
       "      <td>Y</td>\n",
       "      <td>N</td>\n",
       "      <td>Art</td>\n",
       "      <td>N</td>\n",
       "      <td>NaN</td>\n",
       "      <td>1200.0</td>\n",
       "      <td>...</td>\n",
       "      <td>B</td>\n",
       "      <td>Bachelors</td>\n",
       "      <td>12</td>\n",
       "      <td>12</td>\n",
       "      <td>12.0</td>\n",
       "      <td>12.0</td>\n",
       "      <td>835920</td>\n",
       "      <td>1355760</td>\n",
       "      <td>519840</td>\n",
       "      <td>278340.0</td>\n",
       "    </tr>\n",
       "  </tbody>\n",
       "</table>\n",
       "<p>5 rows × 56 columns</p>\n",
       "</div>"
      ],
      "text/plain": [
       "   STUDENT IDENTIFIER  STDNT_AGE STDNT_GENDER STDNT_BACKGROUND IN_STATE_FLAG  \\\n",
       "0             7808615         18            F            BGD 1             Y   \n",
       "1             7830063         19            F            BGD 1             N   \n",
       "2             7847538         18            M            BGD 1             Y   \n",
       "3             8006429         18            M            BGD 1             Y   \n",
       "4             7962680         18            F            BGD 1             Y   \n",
       "\n",
       "  INTERNATIONAL_STS  STDNT_MAJOR STDNT_MINOR  STDNT_TEST_ENTRANCE1  \\\n",
       "0                 N   Undeclared           N                   NaN   \n",
       "1                 N   Undeclared           N                  26.0   \n",
       "2                 N  Mathematics           N                   NaN   \n",
       "3                 N   Undeclared           N                   NaN   \n",
       "4                 N          Art           N                   NaN   \n",
       "\n",
       "   STDNT_TEST_ENTRANCE2  ...  DEGREE_GROUP_CD  DEGREE_GROUP_DESC  \\\n",
       "0                1150.0  ...                B          Bachelors   \n",
       "1                   NaN  ...                B          Bachelors   \n",
       "2                1020.0  ...                B          Bachelors   \n",
       "3                1210.0  ...                B          Bachelors   \n",
       "4                1200.0  ...                B          Bachelors   \n",
       "\n",
       "  FIRST_TERM_ATTEMPT_HRS FIRST_TERM_EARNED_HRS SECOND_TERM_ATTEMPT_HRS  \\\n",
       "0                     16                    16                    14.0   \n",
       "1                     18                    18                    18.0   \n",
       "2                     15                    15                    14.0   \n",
       "3                     13                    13                    14.0   \n",
       "4                     12                    12                    12.0   \n",
       "\n",
       "  SECOND_TERM_EARNED_HRS GROSS_FIN_NEED COST_OF_ATTEND EST_FAM_CONTRIBUTION  \\\n",
       "0                   14.0              0              0                    0   \n",
       "1                   18.0         570000        1355760               785760   \n",
       "2                   14.0              0              0                    0   \n",
       "3                   14.0              0              0                    0   \n",
       "4                   12.0         835920        1355760               519840   \n",
       "\n",
       "  UNMET_NEED  \n",
       "0        0.0  \n",
       "1   459300.0  \n",
       "2        0.0  \n",
       "3        0.0  \n",
       "4   278340.0  \n",
       "\n",
       "[5 rows x 56 columns]"
      ]
     },
     "execution_count": 13,
     "metadata": {},
     "output_type": "execute_result"
    }
   ],
   "source": [
    "df.head()"
   ]
  },
  {
   "cell_type": "code",
   "execution_count": 14,
   "id": "70ae79e2",
   "metadata": {
    "scrolled": false
   },
   "outputs": [
    {
     "name": "stdout",
     "output_type": "stream",
     "text": [
      "<class 'pandas.core.frame.DataFrame'>\n",
      "RangeIndex: 3400 entries, 0 to 3399\n",
      "Data columns (total 56 columns):\n",
      " #   Column                    Non-Null Count  Dtype  \n",
      "---  ------                    --------------  -----  \n",
      " 0   STUDENT IDENTIFIER        3400 non-null   int64  \n",
      " 1   STDNT_AGE                 3400 non-null   int64  \n",
      " 2   STDNT_GENDER              3400 non-null   object \n",
      " 3   STDNT_BACKGROUND          3400 non-null   object \n",
      " 4   IN_STATE_FLAG             3400 non-null   object \n",
      " 5   INTERNATIONAL_STS         3400 non-null   object \n",
      " 6   STDNT_MAJOR               3400 non-null   object \n",
      " 7   STDNT_MINOR               3400 non-null   object \n",
      " 8   STDNT_TEST_ENTRANCE1      1106 non-null   float64\n",
      " 9   STDNT_TEST_ENTRANCE2      2492 non-null   float64\n",
      " 10  STDNT_TEST_ENTRANCE_COMB  2882 non-null   float64\n",
      " 11  FIRST_TERM                3400 non-null   int64  \n",
      " 12  CORE_COURSE_NAME_1_F      3400 non-null   object \n",
      " 13  CORE_COURSE_GRADE_1_F     3400 non-null   object \n",
      " 14  CORE_COURSE_NAME_2_F      3301 non-null   object \n",
      " 15  CORE_COURSE_GRADE_2_F     3301 non-null   object \n",
      " 16  CORE_COURSE_NAME_3_F      2835 non-null   object \n",
      " 17  CORE_COURSE_GRADE_3_F     2835 non-null   object \n",
      " 18  CORE_COURSE_NAME_4_F      1803 non-null   object \n",
      " 19  CORE_COURSE_GRADE_4_F     1803 non-null   object \n",
      " 20  CORE_COURSE_NAME_5_F      645 non-null    object \n",
      " 21  CORE_COURSE_GRADE_5_F     645 non-null    object \n",
      " 22  CORE_COURSE_NAME_6_F      128 non-null    object \n",
      " 23  CORE_COURSE_GRADE_6_F     128 non-null    object \n",
      " 24  SECOND_TERM               3400 non-null   int64  \n",
      " 25  CORE_COURSE_NAME_1_S      3243 non-null   object \n",
      " 26  CORE_COURSE_GRADE_1_S     3168 non-null   object \n",
      " 27  CORE_COURSE_NAME_2_S      2961 non-null   object \n",
      " 28  CORE_COURSE_GRADE_2_S     2961 non-null   object \n",
      " 29  CORE_COURSE_NAME_3_S      2362 non-null   object \n",
      " 30  CORE_COURSE_GRADE_3_S     2362 non-null   object \n",
      " 31  CORE_COURSE_NAME_4_S      1355 non-null   object \n",
      " 32  CORE_COURSE_GRADE_4_S     1355 non-null   object \n",
      " 33  CORE_COURSE_NAME_5_S      450 non-null    object \n",
      " 34  CORE_COURSE_GRADE_5_S     450 non-null    object \n",
      " 35  CORE_COURSE_NAME_6_S      81 non-null     object \n",
      " 36  CORE_COURSE_GRADE_6_S     81 non-null     object \n",
      " 37  HOUSING_STS               3400 non-null   object \n",
      " 38  RETURNED_2ND_YR           3400 non-null   int64  \n",
      " 39  DISTANCE_FROM_HOME        3375 non-null   float64\n",
      " 40  HIGH_SCHL_GPA             3347 non-null   float64\n",
      " 41  HIGH_SCHL_NAME            3399 non-null   object \n",
      " 42  FATHER_HI_EDU_CD          2968 non-null   float64\n",
      " 43  FATHER_HI_EDU_DESC        3400 non-null   object \n",
      " 44  MOTHER_HI_EDU_CD          2911 non-null   float64\n",
      " 45  MOTHER_HI_EDU_DESC        3400 non-null   object \n",
      " 46  DEGREE_GROUP_CD           3400 non-null   object \n",
      " 47  DEGREE_GROUP_DESC         3400 non-null   object \n",
      " 48  FIRST_TERM_ATTEMPT_HRS    3400 non-null   int64  \n",
      " 49  FIRST_TERM_EARNED_HRS     3400 non-null   int64  \n",
      " 50  SECOND_TERM_ATTEMPT_HRS   3194 non-null   float64\n",
      " 51  SECOND_TERM_EARNED_HRS    3191 non-null   float64\n",
      " 52  GROSS_FIN_NEED            3400 non-null   int64  \n",
      " 53  COST_OF_ATTEND            3400 non-null   int64  \n",
      " 54  EST_FAM_CONTRIBUTION      3400 non-null   int64  \n",
      " 55  UNMET_NEED                3400 non-null   float64\n",
      "dtypes: float64(10), int64(10), object(36)\n",
      "memory usage: 1.5+ MB\n"
     ]
    }
   ],
   "source": [
    "df.info()"
   ]
  },
  {
   "cell_type": "code",
   "execution_count": 107,
   "id": "f2ec4cea",
   "metadata": {},
   "outputs": [
    {
     "data": {
      "text/plain": [
       "array([0, 1], dtype=int64)"
      ]
     },
     "execution_count": 107,
     "metadata": {},
     "output_type": "execute_result"
    }
   ],
   "source": [
    "df.Attrition.unique()"
   ]
  },
  {
   "cell_type": "markdown",
   "id": "ce3c1575",
   "metadata": {},
   "source": [
    "# EDA"
   ]
  },
  {
   "cell_type": "markdown",
   "id": "b6a1869c",
   "metadata": {},
   "source": [
    "#### 1. STUDENT IDENTIFIER"
   ]
  },
  {
   "cell_type": "code",
   "execution_count": 18,
   "id": "1d6c5943",
   "metadata": {},
   "outputs": [
    {
     "data": {
      "text/plain": [
       "3400"
      ]
     },
     "execution_count": 18,
     "metadata": {},
     "output_type": "execute_result"
    }
   ],
   "source": [
    "# checking number of unique values in student identifier.\n",
    "\n",
    "df[\"STUDENT IDENTIFIER\"].nunique()"
   ]
  },
  {
   "cell_type": "markdown",
   "id": "a2ce1032",
   "metadata": {},
   "source": [
    "##### Conclusion : \n",
    "\n",
    "Marked this column as Index as Column as all the value are unique."
   ]
  },
  {
   "cell_type": "markdown",
   "id": "65995df6",
   "metadata": {},
   "source": [
    "#### 2. Finding % of NaN values"
   ]
  },
  {
   "cell_type": "code",
   "execution_count": 98,
   "id": "6408247c",
   "metadata": {
    "scrolled": true
   },
   "outputs": [
    {
     "data": {
      "text/plain": [
       "STUDENT IDENTIFIER          0.000000\n",
       "STDNT_AGE                   0.000000\n",
       "STDNT_GENDER                0.000000\n",
       "STDNT_BACKGROUND            0.000000\n",
       "IN_STATE_FLAG               0.000000\n",
       "INTERNATIONAL_STS           0.000000\n",
       "STDNT_MAJOR                 0.000000\n",
       "STDNT_MINOR                 0.000000\n",
       "STDNT_TEST_ENTRANCE1        0.674706\n",
       "STDNT_TEST_ENTRANCE2        0.267059\n",
       "STDNT_TEST_ENTRANCE_COMB    0.152353\n",
       "FIRST_TERM                  0.000000\n",
       "CORE_COURSE_NAME_1_F        0.000000\n",
       "CORE_COURSE_GRADE_1_F       0.000000\n",
       "CORE_COURSE_NAME_2_F        0.029118\n",
       "CORE_COURSE_GRADE_2_F       0.029118\n",
       "CORE_COURSE_NAME_3_F        0.166176\n",
       "CORE_COURSE_GRADE_3_F       0.166176\n",
       "CORE_COURSE_NAME_4_F        0.469706\n",
       "CORE_COURSE_GRADE_4_F       0.469706\n",
       "CORE_COURSE_NAME_5_F        0.810294\n",
       "CORE_COURSE_GRADE_5_F       0.810294\n",
       "CORE_COURSE_NAME_6_F        0.962353\n",
       "CORE_COURSE_GRADE_6_F       0.962353\n",
       "SECOND_TERM                 0.000000\n",
       "CORE_COURSE_NAME_1_S        0.046176\n",
       "CORE_COURSE_GRADE_1_S       0.068235\n",
       "CORE_COURSE_NAME_2_S        0.129118\n",
       "CORE_COURSE_GRADE_2_S       0.129118\n",
       "CORE_COURSE_NAME_3_S        0.305294\n",
       "CORE_COURSE_GRADE_3_S       0.305294\n",
       "CORE_COURSE_NAME_4_S        0.601471\n",
       "CORE_COURSE_GRADE_4_S       0.601471\n",
       "CORE_COURSE_NAME_5_S        0.867647\n",
       "CORE_COURSE_GRADE_5_S       0.867647\n",
       "CORE_COURSE_NAME_6_S        0.976176\n",
       "CORE_COURSE_GRADE_6_S       0.976176\n",
       "HOUSING_STS                 0.000000\n",
       "RETURNED_2ND_YR             0.000000\n",
       "DISTANCE_FROM_HOME          0.007353\n",
       "HIGH_SCHL_GPA               0.015588\n",
       "HIGH_SCHL_NAME              0.000294\n",
       "FATHER_HI_EDU_CD            0.127059\n",
       "FATHER_HI_EDU_DESC          0.000000\n",
       "MOTHER_HI_EDU_CD            0.143824\n",
       "MOTHER_HI_EDU_DESC          0.000000\n",
       "DEGREE_GROUP_CD             0.000000\n",
       "DEGREE_GROUP_DESC           0.000000\n",
       "FIRST_TERM_ATTEMPT_HRS      0.000000\n",
       "FIRST_TERM_EARNED_HRS       0.000000\n",
       "SECOND_TERM_ATTEMPT_HRS     0.060588\n",
       "SECOND_TERM_EARNED_HRS      0.061471\n",
       "GROSS_FIN_NEED              0.000000\n",
       "COST_OF_ATTEND              0.000000\n",
       "EST_FAM_CONTRIBUTION        0.000000\n",
       "UNMET_NEED                  0.000000\n",
       "dtype: float64"
      ]
     },
     "execution_count": 98,
     "metadata": {},
     "output_type": "execute_result"
    }
   ],
   "source": [
    "df.isna().sum() / len(df)"
   ]
  },
  {
   "cell_type": "markdown",
   "id": "317ac864",
   "metadata": {},
   "source": [
    "##### Conclusion : \n",
    "\n",
    "Remove all column / features having NaN in more then 50 % of the data. "
   ]
  },
  {
   "cell_type": "markdown",
   "id": "617c7d2e",
   "metadata": {},
   "source": [
    "#### 3. STDNT_AGE"
   ]
  },
  {
   "cell_type": "code",
   "execution_count": 70,
   "id": "47c4dd43",
   "metadata": {},
   "outputs": [
    {
     "data": {
      "text/plain": [
       "0"
      ]
     },
     "execution_count": 70,
     "metadata": {},
     "output_type": "execute_result"
    }
   ],
   "source": [
    "df.STDNT_AGE.isna().sum()"
   ]
  },
  {
   "cell_type": "code",
   "execution_count": 59,
   "id": "e5919dd1",
   "metadata": {},
   "outputs": [
    {
     "data": {
      "text/plain": [
       "16       8\n",
       "17     309\n",
       "18    2860\n",
       "19     190\n",
       "20      14\n",
       "21       7\n",
       "22       4\n",
       "23       3\n",
       "24       1\n",
       "25       3\n",
       "26       1\n",
       "Name: STDNT_AGE, dtype: int64"
      ]
     },
     "execution_count": 59,
     "metadata": {},
     "output_type": "execute_result"
    }
   ],
   "source": [
    "df.STDNT_AGE.value_counts().sort_index()"
   ]
  },
  {
   "cell_type": "code",
   "execution_count": 68,
   "id": "8dd6cba7",
   "metadata": {
    "scrolled": true
   },
   "outputs": [
    {
     "data": {
      "image/png": "[encoded data removed]",
      "text/plain": [
       "<Figure size 1152x360 with 1 Axes>"
      ]
     },
     "metadata": {
      "needs_background": "light"
     },
     "output_type": "display_data"
    }
   ],
   "source": [
    "# plt.subplot(1,2,2)\n",
    "# sns.histplot(data=pr, x='STDNT_AGE', hue='Attrition', binwidth=1,color=[ 'lightskyblue', 'orange'])\n",
    "# plt.xticks(ticks=np.arange(16.5,27.5,1) , labels=np.arange(16,27))\n",
    "# plt.title('Count of Age group w.r.t Attrition')\n",
    "# plt.show()\n",
    "\n",
    "\n",
    "plt.figure(figsize=(16,5))\n",
    "sns.histplot(data = df, x = \"STDNT_AGE\", hue = \"RETURNED_2ND_YR\"),\n",
    "plt.xlabel(\" Student Age\")\n",
    "plt.ylabel(\"Number of Student\")\n",
    "plt.title(\"Student representation as per their age\")\n",
    "plt.show()"
   ]
  },
  {
   "cell_type": "markdown",
   "id": "5e5173b2",
   "metadata": {},
   "source": [
    "##### Conclusion : \n",
    "\n",
    "As per student representation by their age it's looking higest no# Student belong to age 18.\n",
    "There is no null value as well.\n",
    "So, in this feature we need not to make any changes."
   ]
  },
  {
   "cell_type": "markdown",
   "id": "71bdab0a",
   "metadata": {},
   "source": [
    "#### 4. STDNT_GENDER"
   ]
  },
  {
   "cell_type": "code",
   "execution_count": 71,
   "id": "1380340c",
   "metadata": {},
   "outputs": [
    {
     "data": {
      "text/plain": [
       "F    2140\n",
       "M    1260\n",
       "Name: STDNT_GENDER, dtype: int64"
      ]
     },
     "execution_count": 71,
     "metadata": {},
     "output_type": "execute_result"
    }
   ],
   "source": [
    "df.STDNT_GENDER.value_counts()"
   ]
  },
  {
   "cell_type": "code",
   "execution_count": 72,
   "id": "4f2535f9",
   "metadata": {},
   "outputs": [],
   "source": [
    "FS = df[(df[\"STDNT_GENDER\"] == \"F\")]\n",
    "MS = df[(df[\"STDNT_GENDER\"] == \"M\")]"
   ]
  },
  {
   "cell_type": "code",
   "execution_count": 73,
   "id": "45885526",
   "metadata": {},
   "outputs": [
    {
     "data": {
      "text/html": [
       "<div>\n",
       "<style scoped>\n",
       "    .dataframe tbody tr th:only-of-type {\n",
       "        vertical-align: middle;\n",
       "    }\n",
       "\n",
       "    .dataframe tbody tr th {\n",
       "        vertical-align: top;\n",
       "    }\n",
       "\n",
       "    .dataframe thead th {\n",
       "        text-align: right;\n",
       "    }\n",
       "</style>\n",
       "<table border=\"1\" class=\"dataframe\">\n",
       "  <thead>\n",
       "    <tr style=\"text-align: right;\">\n",
       "      <th></th>\n",
       "      <th>STUDENT IDENTIFIER</th>\n",
       "      <th>STDNT_AGE</th>\n",
       "      <th>STDNT_GENDER</th>\n",
       "      <th>STDNT_BACKGROUND</th>\n",
       "      <th>IN_STATE_FLAG</th>\n",
       "      <th>INTERNATIONAL_STS</th>\n",
       "      <th>STDNT_MAJOR</th>\n",
       "      <th>STDNT_MINOR</th>\n",
       "      <th>STDNT_TEST_ENTRANCE1</th>\n",
       "      <th>STDNT_TEST_ENTRANCE2</th>\n",
       "      <th>...</th>\n",
       "      <th>DEGREE_GROUP_CD</th>\n",
       "      <th>DEGREE_GROUP_DESC</th>\n",
       "      <th>FIRST_TERM_ATTEMPT_HRS</th>\n",
       "      <th>FIRST_TERM_EARNED_HRS</th>\n",
       "      <th>SECOND_TERM_ATTEMPT_HRS</th>\n",
       "      <th>SECOND_TERM_EARNED_HRS</th>\n",
       "      <th>GROSS_FIN_NEED</th>\n",
       "      <th>COST_OF_ATTEND</th>\n",
       "      <th>EST_FAM_CONTRIBUTION</th>\n",
       "      <th>UNMET_NEED</th>\n",
       "    </tr>\n",
       "  </thead>\n",
       "  <tbody>\n",
       "    <tr>\n",
       "      <th>0</th>\n",
       "      <td>7808615</td>\n",
       "      <td>18</td>\n",
       "      <td>F</td>\n",
       "      <td>BGD 1</td>\n",
       "      <td>Y</td>\n",
       "      <td>N</td>\n",
       "      <td>Undeclared</td>\n",
       "      <td>N</td>\n",
       "      <td>NaN</td>\n",
       "      <td>1150.0</td>\n",
       "      <td>...</td>\n",
       "      <td>B</td>\n",
       "      <td>Bachelors</td>\n",
       "      <td>16</td>\n",
       "      <td>16</td>\n",
       "      <td>14.0</td>\n",
       "      <td>14.0</td>\n",
       "      <td>0</td>\n",
       "      <td>0</td>\n",
       "      <td>0</td>\n",
       "      <td>0.0</td>\n",
       "    </tr>\n",
       "    <tr>\n",
       "      <th>1</th>\n",
       "      <td>7830063</td>\n",
       "      <td>19</td>\n",
       "      <td>F</td>\n",
       "      <td>BGD 1</td>\n",
       "      <td>N</td>\n",
       "      <td>N</td>\n",
       "      <td>Undeclared</td>\n",
       "      <td>N</td>\n",
       "      <td>26.0</td>\n",
       "      <td>NaN</td>\n",
       "      <td>...</td>\n",
       "      <td>B</td>\n",
       "      <td>Bachelors</td>\n",
       "      <td>18</td>\n",
       "      <td>18</td>\n",
       "      <td>18.0</td>\n",
       "      <td>18.0</td>\n",
       "      <td>570000</td>\n",
       "      <td>1355760</td>\n",
       "      <td>785760</td>\n",
       "      <td>459300.0</td>\n",
       "    </tr>\n",
       "    <tr>\n",
       "      <th>4</th>\n",
       "      <td>7962680</td>\n",
       "      <td>18</td>\n",
       "      <td>F</td>\n",
       "      <td>BGD 1</td>\n",
       "      <td>Y</td>\n",
       "      <td>N</td>\n",
       "      <td>Art</td>\n",
       "      <td>N</td>\n",
       "      <td>NaN</td>\n",
       "      <td>1200.0</td>\n",
       "      <td>...</td>\n",
       "      <td>B</td>\n",
       "      <td>Bachelors</td>\n",
       "      <td>12</td>\n",
       "      <td>12</td>\n",
       "      <td>12.0</td>\n",
       "      <td>12.0</td>\n",
       "      <td>835920</td>\n",
       "      <td>1355760</td>\n",
       "      <td>519840</td>\n",
       "      <td>278340.0</td>\n",
       "    </tr>\n",
       "    <tr>\n",
       "      <th>6</th>\n",
       "      <td>7838856</td>\n",
       "      <td>18</td>\n",
       "      <td>F</td>\n",
       "      <td>BGD 1</td>\n",
       "      <td>Y</td>\n",
       "      <td>N</td>\n",
       "      <td>Biology</td>\n",
       "      <td>N</td>\n",
       "      <td>NaN</td>\n",
       "      <td>580.0</td>\n",
       "      <td>...</td>\n",
       "      <td>B</td>\n",
       "      <td>Bachelors</td>\n",
       "      <td>16</td>\n",
       "      <td>16</td>\n",
       "      <td>15.0</td>\n",
       "      <td>15.0</td>\n",
       "      <td>0</td>\n",
       "      <td>0</td>\n",
       "      <td>0</td>\n",
       "      <td>0.0</td>\n",
       "    </tr>\n",
       "    <tr>\n",
       "      <th>7</th>\n",
       "      <td>7960448</td>\n",
       "      <td>18</td>\n",
       "      <td>F</td>\n",
       "      <td>BGD 1</td>\n",
       "      <td>Y</td>\n",
       "      <td>N</td>\n",
       "      <td>Biology</td>\n",
       "      <td>N</td>\n",
       "      <td>NaN</td>\n",
       "      <td>750.0</td>\n",
       "      <td>...</td>\n",
       "      <td>B</td>\n",
       "      <td>Bachelors</td>\n",
       "      <td>16</td>\n",
       "      <td>16</td>\n",
       "      <td>15.0</td>\n",
       "      <td>15.0</td>\n",
       "      <td>0</td>\n",
       "      <td>0</td>\n",
       "      <td>0</td>\n",
       "      <td>0.0</td>\n",
       "    </tr>\n",
       "    <tr>\n",
       "      <th>...</th>\n",
       "      <td>...</td>\n",
       "      <td>...</td>\n",
       "      <td>...</td>\n",
       "      <td>...</td>\n",
       "      <td>...</td>\n",
       "      <td>...</td>\n",
       "      <td>...</td>\n",
       "      <td>...</td>\n",
       "      <td>...</td>\n",
       "      <td>...</td>\n",
       "      <td>...</td>\n",
       "      <td>...</td>\n",
       "      <td>...</td>\n",
       "      <td>...</td>\n",
       "      <td>...</td>\n",
       "      <td>...</td>\n",
       "      <td>...</td>\n",
       "      <td>...</td>\n",
       "      <td>...</td>\n",
       "      <td>...</td>\n",
       "      <td>...</td>\n",
       "    </tr>\n",
       "    <tr>\n",
       "      <th>3394</th>\n",
       "      <td>7960053</td>\n",
       "      <td>18</td>\n",
       "      <td>F</td>\n",
       "      <td>BGD 1</td>\n",
       "      <td>Y</td>\n",
       "      <td>N</td>\n",
       "      <td>Theatre Arts</td>\n",
       "      <td>N</td>\n",
       "      <td>NaN</td>\n",
       "      <td>1010.0</td>\n",
       "      <td>...</td>\n",
       "      <td>B</td>\n",
       "      <td>Bachelors</td>\n",
       "      <td>13</td>\n",
       "      <td>3</td>\n",
       "      <td>NaN</td>\n",
       "      <td>NaN</td>\n",
       "      <td>0</td>\n",
       "      <td>0</td>\n",
       "      <td>0</td>\n",
       "      <td>0.0</td>\n",
       "    </tr>\n",
       "    <tr>\n",
       "      <th>3395</th>\n",
       "      <td>7948112</td>\n",
       "      <td>18</td>\n",
       "      <td>F</td>\n",
       "      <td>BGD 4</td>\n",
       "      <td>N</td>\n",
       "      <td>N</td>\n",
       "      <td>Music Performance</td>\n",
       "      <td>N</td>\n",
       "      <td>NaN</td>\n",
       "      <td>800.0</td>\n",
       "      <td>...</td>\n",
       "      <td>B</td>\n",
       "      <td>Bachelors</td>\n",
       "      <td>18</td>\n",
       "      <td>18</td>\n",
       "      <td>16.0</td>\n",
       "      <td>13.0</td>\n",
       "      <td>0</td>\n",
       "      <td>0</td>\n",
       "      <td>0</td>\n",
       "      <td>0.0</td>\n",
       "    </tr>\n",
       "    <tr>\n",
       "      <th>3396</th>\n",
       "      <td>8023055</td>\n",
       "      <td>18</td>\n",
       "      <td>F</td>\n",
       "      <td>BGD 1</td>\n",
       "      <td>Y</td>\n",
       "      <td>N</td>\n",
       "      <td>Biology</td>\n",
       "      <td>N</td>\n",
       "      <td>20.0</td>\n",
       "      <td>NaN</td>\n",
       "      <td>...</td>\n",
       "      <td>B</td>\n",
       "      <td>Bachelors</td>\n",
       "      <td>13</td>\n",
       "      <td>9</td>\n",
       "      <td>NaN</td>\n",
       "      <td>NaN</td>\n",
       "      <td>0</td>\n",
       "      <td>0</td>\n",
       "      <td>0</td>\n",
       "      <td>0.0</td>\n",
       "    </tr>\n",
       "    <tr>\n",
       "      <th>3397</th>\n",
       "      <td>7926915</td>\n",
       "      <td>18</td>\n",
       "      <td>F</td>\n",
       "      <td>BGD 4</td>\n",
       "      <td>Y</td>\n",
       "      <td>N</td>\n",
       "      <td>Biology</td>\n",
       "      <td>N</td>\n",
       "      <td>NaN</td>\n",
       "      <td>1020.0</td>\n",
       "      <td>...</td>\n",
       "      <td>B</td>\n",
       "      <td>Bachelors</td>\n",
       "      <td>14</td>\n",
       "      <td>6</td>\n",
       "      <td>NaN</td>\n",
       "      <td>NaN</td>\n",
       "      <td>0</td>\n",
       "      <td>945840</td>\n",
       "      <td>1288980</td>\n",
       "      <td>0.0</td>\n",
       "    </tr>\n",
       "    <tr>\n",
       "      <th>3398</th>\n",
       "      <td>7877332</td>\n",
       "      <td>18</td>\n",
       "      <td>F</td>\n",
       "      <td>BGD 3</td>\n",
       "      <td>Y</td>\n",
       "      <td>N</td>\n",
       "      <td>Joint Enrollment - Accel</td>\n",
       "      <td>N</td>\n",
       "      <td>21.0</td>\n",
       "      <td>NaN</td>\n",
       "      <td>...</td>\n",
       "      <td>B</td>\n",
       "      <td>Bachelors</td>\n",
       "      <td>12</td>\n",
       "      <td>9</td>\n",
       "      <td>NaN</td>\n",
       "      <td>NaN</td>\n",
       "      <td>0</td>\n",
       "      <td>269100</td>\n",
       "      <td>0</td>\n",
       "      <td>-231720.0</td>\n",
       "    </tr>\n",
       "  </tbody>\n",
       "</table>\n",
       "<p>2140 rows × 56 columns</p>\n",
       "</div>"
      ],
      "text/plain": [
       "      STUDENT IDENTIFIER  STDNT_AGE STDNT_GENDER STDNT_BACKGROUND  \\\n",
       "0                7808615         18            F            BGD 1   \n",
       "1                7830063         19            F            BGD 1   \n",
       "4                7962680         18            F            BGD 1   \n",
       "6                7838856         18            F            BGD 1   \n",
       "7                7960448         18            F            BGD 1   \n",
       "...                  ...        ...          ...              ...   \n",
       "3394             7960053         18            F            BGD 1   \n",
       "3395             7948112         18            F            BGD 4   \n",
       "3396             8023055         18            F            BGD 1   \n",
       "3397             7926915         18            F            BGD 4   \n",
       "3398             7877332         18            F            BGD 3   \n",
       "\n",
       "     IN_STATE_FLAG INTERNATIONAL_STS               STDNT_MAJOR STDNT_MINOR  \\\n",
       "0                Y                 N                Undeclared           N   \n",
       "1                N                 N                Undeclared           N   \n",
       "4                Y                 N                       Art           N   \n",
       "6                Y                 N                   Biology           N   \n",
       "7                Y                 N                   Biology           N   \n",
       "...            ...               ...                       ...         ...   \n",
       "3394             Y                 N              Theatre Arts           N   \n",
       "3395             N                 N         Music Performance           N   \n",
       "3396             Y                 N                   Biology           N   \n",
       "3397             Y                 N                   Biology           N   \n",
       "3398             Y                 N  Joint Enrollment - Accel           N   \n",
       "\n",
       "      STDNT_TEST_ENTRANCE1  STDNT_TEST_ENTRANCE2  ...  DEGREE_GROUP_CD  \\\n",
       "0                      NaN                1150.0  ...                B   \n",
       "1                     26.0                   NaN  ...                B   \n",
       "4                      NaN                1200.0  ...                B   \n",
       "6                      NaN                 580.0  ...                B   \n",
       "7                      NaN                 750.0  ...                B   \n",
       "...                    ...                   ...  ...              ...   \n",
       "3394                   NaN                1010.0  ...                B   \n",
       "3395                   NaN                 800.0  ...                B   \n",
       "3396                  20.0                   NaN  ...                B   \n",
       "3397                   NaN                1020.0  ...                B   \n",
       "3398                  21.0                   NaN  ...                B   \n",
       "\n",
       "      DEGREE_GROUP_DESC FIRST_TERM_ATTEMPT_HRS FIRST_TERM_EARNED_HRS  \\\n",
       "0             Bachelors                     16                    16   \n",
       "1             Bachelors                     18                    18   \n",
       "4             Bachelors                     12                    12   \n",
       "6             Bachelors                     16                    16   \n",
       "7             Bachelors                     16                    16   \n",
       "...                 ...                    ...                   ...   \n",
       "3394          Bachelors                     13                     3   \n",
       "3395          Bachelors                     18                    18   \n",
       "3396          Bachelors                     13                     9   \n",
       "3397          Bachelors                     14                     6   \n",
       "3398          Bachelors                     12                     9   \n",
       "\n",
       "     SECOND_TERM_ATTEMPT_HRS SECOND_TERM_EARNED_HRS GROSS_FIN_NEED  \\\n",
       "0                       14.0                   14.0              0   \n",
       "1                       18.0                   18.0         570000   \n",
       "4                       12.0                   12.0         835920   \n",
       "6                       15.0                   15.0              0   \n",
       "7                       15.0                   15.0              0   \n",
       "...                      ...                    ...            ...   \n",
       "3394                     NaN                    NaN              0   \n",
       "3395                    16.0                   13.0              0   \n",
       "3396                     NaN                    NaN              0   \n",
       "3397                     NaN                    NaN              0   \n",
       "3398                     NaN                    NaN              0   \n",
       "\n",
       "     COST_OF_ATTEND EST_FAM_CONTRIBUTION UNMET_NEED  \n",
       "0                 0                    0        0.0  \n",
       "1           1355760               785760   459300.0  \n",
       "4           1355760               519840   278340.0  \n",
       "6                 0                    0        0.0  \n",
       "7                 0                    0        0.0  \n",
       "...             ...                  ...        ...  \n",
       "3394              0                    0        0.0  \n",
       "3395              0                    0        0.0  \n",
       "3396              0                    0        0.0  \n",
       "3397         945840              1288980        0.0  \n",
       "3398         269100                    0  -231720.0  \n",
       "\n",
       "[2140 rows x 56 columns]"
      ]
     },
     "execution_count": 73,
     "metadata": {},
     "output_type": "execute_result"
    }
   ],
   "source": [
    "FS"
   ]
  },
  {
   "cell_type": "code",
   "execution_count": 74,
   "id": "6c8699b9",
   "metadata": {},
   "outputs": [
    {
     "data": {
      "text/plain": [
       "1    0.778037\n",
       "0    0.221963\n",
       "Name: RETURNED_2ND_YR, dtype: float64"
      ]
     },
     "execution_count": 74,
     "metadata": {},
     "output_type": "execute_result"
    }
   ],
   "source": [
    "FS.Attrition.value_counts(normalize=True)"
   ]
  },
  {
   "cell_type": "code",
   "execution_count": 75,
   "id": "97c377ac",
   "metadata": {},
   "outputs": [
    {
     "data": {
      "text/plain": [
       "1    0.803175\n",
       "0    0.196825\n",
       "Name: RETURNED_2ND_YR, dtype: float64"
      ]
     },
     "execution_count": 75,
     "metadata": {},
     "output_type": "execute_result"
    }
   ],
   "source": [
    "MS.Attrition.value_counts(normalize=True)"
   ]
  },
  {
   "cell_type": "code",
   "execution_count": 357,
   "id": "1436b46f",
   "metadata": {},
   "outputs": [
    {
     "data": {
      "image/png": "[encoded data removed]",
      "text/plain": [
       "<Figure size 576x1152 with 3 Axes>"
      ]
     },
     "metadata": {
      "needs_background": "light"
     },
     "output_type": "display_data"
    }
   ],
   "source": [
    "plt.figure(figsize=(8,16))\n",
    "\n",
    "plt.subplot(3,1,1)\n",
    "sns.countplot(df['STDNT_GENDER'],hue=df['Attrition'])\n",
    "\n",
    "plt.subplot(3,1,2)\n",
    "plt.pie(FS['Attrition'].value_counts(),explode=[0.05,0], colors=[ 'lightskyblue', 'orange'], labels=['YES', 'NO'], autopct='%.2f%%')\n",
    "plt.title('Pie chart')\n",
    "\n",
    "plt.subplot(3,1,3)\n",
    "plt.pie(MS['Attrition'].value_counts(),explode=[0.05,0], colors=[ 'lightskyblue', 'orange'], labels=['YES', 'NO'], autopct='%.2f%%')\n",
    "plt.title('Pie chart')\n",
    "plt.show()"
   ]
  },
  {
   "cell_type": "markdown",
   "id": "687ad9dd",
   "metadata": {},
   "source": [
    "##### Conclusion : \n",
    "It seems like Gender Column dose not really matter for taking admission in 2nd year as it representation of male & female remain more or less same. \n",
    "\n",
    "So, it is upto us we want to drop it or not. \n",
    "\n",
    "Here, I am keeping as it is not going to effect in wrong way."
   ]
  },
  {
   "cell_type": "markdown",
   "id": "f7e67f09",
   "metadata": {},
   "source": [
    "#### 5. STDNT_BACKGROUND"
   ]
  },
  {
   "cell_type": "code",
   "execution_count": 94,
   "id": "a5fa07ad",
   "metadata": {},
   "outputs": [
    {
     "data": {
      "text/plain": [
       "BGD 1    2082\n",
       "BGD 3     947\n",
       "BGD 4     139\n",
       "BGD 2     106\n",
       "BGD 6      94\n",
       "BGD 7      19\n",
       "BGD 5       8\n",
       "BGD 8       5\n",
       "Name: STDNT_BACKGROUND, dtype: int64"
      ]
     },
     "execution_count": 94,
     "metadata": {},
     "output_type": "execute_result"
    }
   ],
   "source": [
    "df.STDNT_BACKGROUND.value_counts()"
   ]
  },
  {
   "cell_type": "code",
   "execution_count": 95,
   "id": "4c13fca5",
   "metadata": {},
   "outputs": [
    {
     "data": {
      "text/plain": [
       "0"
      ]
     },
     "execution_count": 95,
     "metadata": {},
     "output_type": "execute_result"
    }
   ],
   "source": [
    "df.STDNT_BACKGROUND.isna().sum()"
   ]
  },
  {
   "cell_type": "markdown",
   "id": "3059c8b0",
   "metadata": {},
   "source": [
    "##### Conclusion : \n",
    "\n",
    "Here, in \"STDNT_BACKGROUND\" column there is no null value and 8 different values. \n",
    "\n",
    "So, don't find any reason to make any changes with it."
   ]
  },
  {
   "cell_type": "markdown",
   "id": "eee19305",
   "metadata": {},
   "source": [
    "#### 6. INTERNATIONAL_STS"
   ]
  },
  {
   "cell_type": "code",
   "execution_count": 170,
   "id": "ca2461c8",
   "metadata": {},
   "outputs": [
    {
     "data": {
      "text/plain": [
       "N    3373\n",
       "Y      27\n",
       "Name: INTERNATIONAL_STS, dtype: int64"
      ]
     },
     "execution_count": 170,
     "metadata": {},
     "output_type": "execute_result"
    }
   ],
   "source": [
    "df.INTERNATIONAL_STS.value_counts()"
   ]
  },
  {
   "cell_type": "code",
   "execution_count": 19,
   "id": "96b9ab4b",
   "metadata": {},
   "outputs": [
    {
     "data": {
      "text/plain": [
       "N    0.992059\n",
       "Y    0.007941\n",
       "Name: INTERNATIONAL_STS, dtype: float64"
      ]
     },
     "execution_count": 19,
     "metadata": {},
     "output_type": "execute_result"
    }
   ],
   "source": [
    "# Indicator of whether Student is an International Student\n",
    "\n",
    "df.INTERNATIONAL_STS.value_counts(normalize=True)"
   ]
  },
  {
   "cell_type": "markdown",
   "id": "2decb664",
   "metadata": {},
   "source": [
    "##### Conclusion : \n",
    "\n"
   ]
  },
  {
   "cell_type": "markdown",
   "id": "6e43a99c",
   "metadata": {},
   "source": [
    "#### 7. STDNT_MINOR"
   ]
  },
  {
   "cell_type": "code",
   "execution_count": 131,
   "id": "0a93d51c",
   "metadata": {
    "scrolled": true
   },
   "outputs": [
    {
     "data": {
      "text/plain": [
       "N                                0.929412\n",
       "Spanish                          0.007647\n",
       "Music                            0.005588\n",
       "Psychology                       0.005588\n",
       "Foundations of Business          0.004412\n",
       "Communication                    0.004118\n",
       "History                          0.003824\n",
       "Theatre Arts                     0.003529\n",
       "Criminal Justice                 0.003529\n",
       "Computer Science - Systems       0.002941\n",
       "Early Childhood Education        0.002647\n",
       "Mathematics                      0.002059\n",
       "Marketing                        0.001765\n",
       "Art History                      0.001765\n",
       "Professional Writing             0.001765\n",
       "Art                              0.001471\n",
       "Sociology                        0.001471\n",
       "English Language/Literature      0.001471\n",
       "Biology                          0.001176\n",
       "Chemistry                        0.001176\n",
       "Political Science                0.001176\n",
       "Accounting                       0.001176\n",
       "French                           0.001176\n",
       "Economics                        0.000882\n",
       "Exercise Science                 0.000882\n",
       "Health Science                   0.000882\n",
       "Computer Info. Management        0.000882\n",
       "International Business           0.000882\n",
       "African Studies                  0.000588\n",
       "Management                       0.000588\n",
       "Creative Writing                 0.000588\n",
       "Philosophy                       0.000588\n",
       "Asian Studies                    0.000588\n",
       "Anthropology                     0.000588\n",
       "Military Sci & Adv Leadership    0.000588\n",
       "Finance                          0.000294\n",
       "Women's Studies                  0.000294\n",
       "Name: STDNT_MINOR, dtype: float64"
      ]
     },
     "execution_count": 131,
     "metadata": {},
     "output_type": "execute_result"
    }
   ],
   "source": [
    "# Indicator of whether Student is an International Student\n",
    "\n",
    "df.STDNT_MINOR.value_counts(normalize=True)"
   ]
  },
  {
   "cell_type": "code",
   "execution_count": 132,
   "id": "1123e142",
   "metadata": {},
   "outputs": [
    {
     "data": {
      "image/png": "[encoded data removed]",
      "text/plain": [
       "<Figure size 1152x576 with 1 Axes>"
      ]
     },
     "metadata": {
      "needs_background": "light"
     },
     "output_type": "display_data"
    }
   ],
   "source": [
    "plt.figure(figsize=(16,8))\n",
    "sns.histplot(df['STDNT_MINOR'])\n",
    "plt.xticks(rotation = 90)\n",
    "plt.show()"
   ]
  },
  {
   "cell_type": "markdown",
   "id": "3158d1ea",
   "metadata": {},
   "source": [
    "##### Conclusion : \n",
    "\n",
    "Looking at this data I come to a conclusion that I can drop this column because more than 90% of the student do not have any Minor Subject."
   ]
  },
  {
   "cell_type": "markdown",
   "id": "5ccb56ab",
   "metadata": {},
   "source": [
    "#### 8. STDNT_MAJOR"
   ]
  },
  {
   "cell_type": "code",
   "execution_count": 104,
   "id": "42dc585a",
   "metadata": {
    "scrolled": true
   },
   "outputs": [
    {
     "data": {
      "text/plain": [
       "Undeclared                        0.135294\n",
       "Biology                           0.106471\n",
       "Early Childhood Education         0.055882\n",
       "Pre-Nursing                       0.052059\n",
       "Nursing                           0.048235\n",
       "Psychology                        0.045588\n",
       "Pre-Business                      0.039118\n",
       "Theatre Arts                      0.038529\n",
       "Music Performance                 0.029118\n",
       "Criminal Justice                  0.028824\n",
       "Music Education                   0.028235\n",
       "General Business                  0.025000\n",
       "Exercise Science                  0.023824\n",
       "Art                               0.022059\n",
       "Management                        0.021176\n",
       "Communication                     0.020588\n",
       "Political Science                 0.018824\n",
       "Chemistry                         0.018824\n",
       "Engineering Studies               0.017647\n",
       "English Language/Literature       0.017647\n",
       "Marketing                         0.017353\n",
       "Computer Science - Systems        0.017059\n",
       "Accounting                        0.015882\n",
       "Health Science                    0.014118\n",
       "Computer Science - Games          0.011765\n",
       "Joint Enrollment - Accel          0.010294\n",
       "History                           0.009706\n",
       "Applied Computer Science          0.009412\n",
       "Theatre Education                 0.008529\n",
       "English and Secondary Ed          0.008235\n",
       "Pre-Engineering/RETP              0.007941\n",
       "History and Secondary Ed          0.007941\n",
       "Mathematics                       0.007647\n",
       "Finance                           0.007059\n",
       "Management Information Systems    0.006176\n",
       "Health and Physical Education     0.005882\n",
       "Sociology                         0.005882\n",
       "Music                             0.005000\n",
       "Middle Grades Education           0.005000\n",
       "Spec Ed: Gen. Curr. - Reading     0.003824\n",
       "General Studies/AS                0.003529\n",
       "Mathematics and Secondary Ed      0.003235\n",
       "Information Technology            0.002941\n",
       "Art Education                     0.002647\n",
       "Biology and Secondary Ed          0.001471\n",
       "Spanish                           0.001471\n",
       "Spanish with Teacher Cert         0.001176\n",
       "French with Teacher Cert          0.001176\n",
       "French                            0.001176\n",
       "Geology                           0.001176\n",
       "Early Admission - Accel           0.000882\n",
       "Chemistry and Secondary Ed        0.000588\n",
       "Earth and Space Science           0.000588\n",
       "Liberal Arts                      0.000294\n",
       "Name: STDNT_MAJOR, dtype: float64"
      ]
     },
     "execution_count": 104,
     "metadata": {},
     "output_type": "execute_result"
    }
   ],
   "source": [
    "# Indicator of whether Student is an International Student\n",
    "\n",
    "df.STDNT_MAJOR.value_counts(normalize=True)"
   ]
  },
  {
   "cell_type": "code",
   "execution_count": 130,
   "id": "622aff39",
   "metadata": {},
   "outputs": [
    {
     "data": {
      "image/png": "[encoded data removed]",
      "text/plain": [
       "<Figure size 1152x576 with 1 Axes>"
      ]
     },
     "metadata": {
      "needs_background": "light"
     },
     "output_type": "display_data"
    }
   ],
   "source": [
    "plt.figure(figsize=(16,8))\n",
    "sns.histplot(df['STDNT_MAJOR'])\n",
    "plt.xticks(rotation = 90)\n",
    "plt.show()"
   ]
  },
  {
   "cell_type": "markdown",
   "id": "6059e032",
   "metadata": {},
   "source": [
    "##### Conclusion : \n",
    "\n",
    "Looking at this data I come to a conclusion that Data is well distributed."
   ]
  },
  {
   "cell_type": "markdown",
   "id": "aeb009f4",
   "metadata": {},
   "source": [
    "#### 9. HOUSING_STS"
   ]
  },
  {
   "cell_type": "code",
   "execution_count": 143,
   "id": "34380e73",
   "metadata": {},
   "outputs": [
    {
     "data": {
      "text/plain": [
       "Off Campus    0.582647\n",
       "On Campus     0.417353\n",
       "Name: HOUSING_STS, dtype: float64"
      ]
     },
     "execution_count": 143,
     "metadata": {},
     "output_type": "execute_result"
    }
   ],
   "source": [
    "# checked Student Representation Based on Hounsing Status\n",
    "\n",
    "df.HOUSING_STS.value_counts(normalize=True)"
   ]
  },
  {
   "cell_type": "code",
   "execution_count": 144,
   "id": "9ff9449d",
   "metadata": {},
   "outputs": [
    {
     "data": {
      "text/html": [
       "<div>\n",
       "<style scoped>\n",
       "    .dataframe tbody tr th:only-of-type {\n",
       "        vertical-align: middle;\n",
       "    }\n",
       "\n",
       "    .dataframe tbody tr th {\n",
       "        vertical-align: top;\n",
       "    }\n",
       "\n",
       "    .dataframe thead th {\n",
       "        text-align: right;\n",
       "    }\n",
       "</style>\n",
       "<table border=\"1\" class=\"dataframe\">\n",
       "  <thead>\n",
       "    <tr style=\"text-align: right;\">\n",
       "      <th>RETURNED_2ND_YR</th>\n",
       "      <th>0</th>\n",
       "      <th>1</th>\n",
       "    </tr>\n",
       "    <tr>\n",
       "      <th>HOUSING_STS</th>\n",
       "      <th></th>\n",
       "      <th></th>\n",
       "    </tr>\n",
       "  </thead>\n",
       "  <tbody>\n",
       "    <tr>\n",
       "      <th>Off Campus</th>\n",
       "      <td>389</td>\n",
       "      <td>1592</td>\n",
       "    </tr>\n",
       "    <tr>\n",
       "      <th>On Campus</th>\n",
       "      <td>334</td>\n",
       "      <td>1085</td>\n",
       "    </tr>\n",
       "  </tbody>\n",
       "</table>\n",
       "</div>"
      ],
      "text/plain": [
       "RETURNED_2ND_YR    0     1\n",
       "HOUSING_STS               \n",
       "Off Campus       389  1592\n",
       "On Campus        334  1085"
      ]
     },
     "execution_count": 144,
     "metadata": {},
     "output_type": "execute_result"
    }
   ],
   "source": [
    "pd.crosstab(df.HOUSING_STS,df.Attrition)"
   ]
  },
  {
   "cell_type": "markdown",
   "id": "e36edcd8",
   "metadata": {},
   "source": [
    "##### Conclusion : \n",
    "\n",
    "Find No NaN, 58% is having Off Campus Housing."
   ]
  },
  {
   "cell_type": "markdown",
   "id": "e3f36c9f",
   "metadata": {},
   "source": [
    "#### 10. DISTANCE_FROM_HOME"
   ]
  },
  {
   "cell_type": "code",
   "execution_count": 150,
   "id": "d7839b0f",
   "metadata": {},
   "outputs": [
    {
     "data": {
      "text/plain": [
       "count    2662.000000\n",
       "mean       96.506762\n",
       "std       235.583832\n",
       "min         0.000000\n",
       "25%        69.000000\n",
       "50%        69.000000\n",
       "75%       138.000000\n",
       "max      5932.000000\n",
       "Name: DISTANCE_FROM_HOME, dtype: float64"
      ]
     },
     "execution_count": 150,
     "metadata": {},
     "output_type": "execute_result"
    }
   ],
   "source": [
    "df[df.Attrition == 1].DISTANCE_FROM_HOME.describe()"
   ]
  },
  {
   "cell_type": "code",
   "execution_count": 152,
   "id": "dd5e0313",
   "metadata": {},
   "outputs": [
    {
     "data": {
      "text/plain": [
       "count     713.000000\n",
       "mean      112.214586\n",
       "std       233.494713\n",
       "min         0.000000\n",
       "25%        69.000000\n",
       "50%        69.000000\n",
       "75%       138.000000\n",
       "max      4501.000000\n",
       "Name: DISTANCE_FROM_HOME, dtype: float64"
      ]
     },
     "execution_count": 152,
     "metadata": {},
     "output_type": "execute_result"
    }
   ],
   "source": [
    "df[df.Attrition == 0].DISTANCE_FROM_HOME.describe()"
   ]
  },
  {
   "cell_type": "code",
   "execution_count": 358,
   "id": "e1b972bc",
   "metadata": {},
   "outputs": [
    {
     "data": {
      "image/png": "[encoded data removed]",
      "text/plain": [
       "<Figure size 432x288 with 1 Axes>"
      ]
     },
     "metadata": {
      "needs_background": "light"
     },
     "output_type": "display_data"
    }
   ],
   "source": [
    "sns.distplot(df['DISTANCE_FROM_HOME']);"
   ]
  },
  {
   "cell_type": "code",
   "execution_count": 174,
   "id": "11309598",
   "metadata": {},
   "outputs": [
    {
     "data": {
      "text/html": [
       "<div>\n",
       "<style scoped>\n",
       "    .dataframe tbody tr th:only-of-type {\n",
       "        vertical-align: middle;\n",
       "    }\n",
       "\n",
       "    .dataframe tbody tr th {\n",
       "        vertical-align: top;\n",
       "    }\n",
       "\n",
       "    .dataframe thead th {\n",
       "        text-align: right;\n",
       "    }\n",
       "</style>\n",
       "<table border=\"1\" class=\"dataframe\">\n",
       "  <thead>\n",
       "    <tr style=\"text-align: right;\">\n",
       "      <th>RETURNED_2ND_YR</th>\n",
       "      <th>0</th>\n",
       "      <th>1</th>\n",
       "    </tr>\n",
       "    <tr>\n",
       "      <th>DISTANCE_FROM_HOME</th>\n",
       "      <th></th>\n",
       "      <th></th>\n",
       "    </tr>\n",
       "  </thead>\n",
       "  <tbody>\n",
       "    <tr>\n",
       "      <th>0.0</th>\n",
       "      <td>128</td>\n",
       "      <td>543</td>\n",
       "    </tr>\n",
       "    <tr>\n",
       "      <th>59.0</th>\n",
       "      <td>8</td>\n",
       "      <td>45</td>\n",
       "    </tr>\n",
       "    <tr>\n",
       "      <th>69.0</th>\n",
       "      <td>266</td>\n",
       "      <td>1136</td>\n",
       "    </tr>\n",
       "    <tr>\n",
       "      <th>90.0</th>\n",
       "      <td>64</td>\n",
       "      <td>184</td>\n",
       "    </tr>\n",
       "    <tr>\n",
       "      <th>91.0</th>\n",
       "      <td>2</td>\n",
       "      <td>16</td>\n",
       "    </tr>\n",
       "    <tr>\n",
       "      <th>...</th>\n",
       "      <td>...</td>\n",
       "      <td>...</td>\n",
       "    </tr>\n",
       "    <tr>\n",
       "      <th>1854.0</th>\n",
       "      <td>1</td>\n",
       "      <td>0</td>\n",
       "    </tr>\n",
       "    <tr>\n",
       "      <th>2203.0</th>\n",
       "      <td>1</td>\n",
       "      <td>0</td>\n",
       "    </tr>\n",
       "    <tr>\n",
       "      <th>2221.0</th>\n",
       "      <td>1</td>\n",
       "      <td>0</td>\n",
       "    </tr>\n",
       "    <tr>\n",
       "      <th>4501.0</th>\n",
       "      <td>1</td>\n",
       "      <td>1</td>\n",
       "    </tr>\n",
       "    <tr>\n",
       "      <th>5932.0</th>\n",
       "      <td>0</td>\n",
       "      <td>3</td>\n",
       "    </tr>\n",
       "  </tbody>\n",
       "</table>\n",
       "<p>71 rows × 2 columns</p>\n",
       "</div>"
      ],
      "text/plain": [
       "RETURNED_2ND_YR       0     1\n",
       "DISTANCE_FROM_HOME           \n",
       "0.0                 128   543\n",
       "59.0                  8    45\n",
       "69.0                266  1136\n",
       "90.0                 64   184\n",
       "91.0                  2    16\n",
       "...                 ...   ...\n",
       "1854.0                1     0\n",
       "2203.0                1     0\n",
       "2221.0                1     0\n",
       "4501.0                1     1\n",
       "5932.0                0     3\n",
       "\n",
       "[71 rows x 2 columns]"
      ]
     },
     "execution_count": 174,
     "metadata": {},
     "output_type": "execute_result"
    }
   ],
   "source": [
    "pd.crosstab(df.DISTANCE_FROM_HOME, df.Attrition)"
   ]
  },
  {
   "cell_type": "markdown",
   "id": "75000054",
   "metadata": {},
   "source": [
    "##### Conclusion : \n",
    "\n",
    "1. Looking at this graph I found most of the student distence from home is between 0 to 600.\n",
    "\n",
    "2. There are only 25 missing values.\n",
    "\n",
    "3. As data is very much Skeawed but not able to find any trend in it of incresing Attirition based on distance.\n",
    "\n",
    "4. So, on the basis of above conclusion will drop rows having NaN Values."
   ]
  },
  {
   "cell_type": "markdown",
   "id": "0f675550",
   "metadata": {},
   "source": [
    "#### 11. HIGH_SCHL_GPA"
   ]
  },
  {
   "cell_type": "code",
   "execution_count": 180,
   "id": "01b330df",
   "metadata": {
    "scrolled": true
   },
   "outputs": [
    {
     "data": {
      "text/plain": [
       "200"
      ]
     },
     "execution_count": 180,
     "metadata": {},
     "output_type": "execute_result"
    }
   ],
   "source": [
    "df.HIGH_SCHL_GPA.nunique()"
   ]
  },
  {
   "cell_type": "code",
   "execution_count": 183,
   "id": "cecc40cc",
   "metadata": {},
   "outputs": [
    {
     "data": {
      "text/plain": [
       "53"
      ]
     },
     "execution_count": 183,
     "metadata": {},
     "output_type": "execute_result"
    }
   ],
   "source": [
    "df.HIGH_SCHL_GPA.isna().sum()"
   ]
  },
  {
   "cell_type": "code",
   "execution_count": 189,
   "id": "c4ad95b6",
   "metadata": {},
   "outputs": [
    {
     "data": {
      "text/plain": [
       "count    3347.000000\n",
       "mean        3.202738\n",
       "std         0.455337\n",
       "min         0.000000\n",
       "25%         2.870000\n",
       "50%         3.200000\n",
       "75%         3.560000\n",
       "max         4.000000\n",
       "Name: HIGH_SCHL_GPA, dtype: float64"
      ]
     },
     "execution_count": 189,
     "metadata": {},
     "output_type": "execute_result"
    }
   ],
   "source": [
    "df.HIGH_SCHL_GPA.describe()"
   ]
  },
  {
   "cell_type": "code",
   "execution_count": 178,
   "id": "f8db087f",
   "metadata": {},
   "outputs": [
    {
     "data": {
      "text/html": [
       "<div>\n",
       "<style scoped>\n",
       "    .dataframe tbody tr th:only-of-type {\n",
       "        vertical-align: middle;\n",
       "    }\n",
       "\n",
       "    .dataframe tbody tr th {\n",
       "        vertical-align: top;\n",
       "    }\n",
       "\n",
       "    .dataframe thead th {\n",
       "        text-align: right;\n",
       "    }\n",
       "</style>\n",
       "<table border=\"1\" class=\"dataframe\">\n",
       "  <thead>\n",
       "    <tr style=\"text-align: right;\">\n",
       "      <th>RETURNED_2ND_YR</th>\n",
       "      <th>0</th>\n",
       "      <th>1</th>\n",
       "    </tr>\n",
       "    <tr>\n",
       "      <th>HIGH_SCHL_GPA</th>\n",
       "      <th></th>\n",
       "      <th></th>\n",
       "    </tr>\n",
       "  </thead>\n",
       "  <tbody>\n",
       "    <tr>\n",
       "      <th>0.00</th>\n",
       "      <td>1</td>\n",
       "      <td>0</td>\n",
       "    </tr>\n",
       "    <tr>\n",
       "      <th>1.87</th>\n",
       "      <td>0</td>\n",
       "      <td>1</td>\n",
       "    </tr>\n",
       "    <tr>\n",
       "      <th>1.92</th>\n",
       "      <td>0</td>\n",
       "      <td>1</td>\n",
       "    </tr>\n",
       "    <tr>\n",
       "      <th>1.94</th>\n",
       "      <td>0</td>\n",
       "      <td>1</td>\n",
       "    </tr>\n",
       "    <tr>\n",
       "      <th>2.00</th>\n",
       "      <td>2</td>\n",
       "      <td>8</td>\n",
       "    </tr>\n",
       "    <tr>\n",
       "      <th>...</th>\n",
       "      <td>...</td>\n",
       "      <td>...</td>\n",
       "    </tr>\n",
       "    <tr>\n",
       "      <th>3.94</th>\n",
       "      <td>1</td>\n",
       "      <td>10</td>\n",
       "    </tr>\n",
       "    <tr>\n",
       "      <th>3.95</th>\n",
       "      <td>0</td>\n",
       "      <td>1</td>\n",
       "    </tr>\n",
       "    <tr>\n",
       "      <th>3.96</th>\n",
       "      <td>2</td>\n",
       "      <td>6</td>\n",
       "    </tr>\n",
       "    <tr>\n",
       "      <th>3.97</th>\n",
       "      <td>3</td>\n",
       "      <td>3</td>\n",
       "    </tr>\n",
       "    <tr>\n",
       "      <th>4.00</th>\n",
       "      <td>15</td>\n",
       "      <td>109</td>\n",
       "    </tr>\n",
       "  </tbody>\n",
       "</table>\n",
       "<p>200 rows × 2 columns</p>\n",
       "</div>"
      ],
      "text/plain": [
       "RETURNED_2ND_YR   0    1\n",
       "HIGH_SCHL_GPA           \n",
       "0.00              1    0\n",
       "1.87              0    1\n",
       "1.92              0    1\n",
       "1.94              0    1\n",
       "2.00              2    8\n",
       "...              ..  ...\n",
       "3.94              1   10\n",
       "3.95              0    1\n",
       "3.96              2    6\n",
       "3.97              3    3\n",
       "4.00             15  109\n",
       "\n",
       "[200 rows x 2 columns]"
      ]
     },
     "execution_count": 178,
     "metadata": {},
     "output_type": "execute_result"
    }
   ],
   "source": [
    "pd.crosstab(df.HIGH_SCHL_GPA,df.Attrition)"
   ]
  },
  {
   "cell_type": "code",
   "execution_count": 191,
   "id": "d0535ca9",
   "metadata": {},
   "outputs": [],
   "source": [
    "df[\"HIGH_SCHL_GPA\"].fillna(0,inplace = True)"
   ]
  },
  {
   "cell_type": "code",
   "execution_count": 192,
   "id": "28579351",
   "metadata": {},
   "outputs": [
    {
     "data": {
      "text/plain": [
       "0"
      ]
     },
     "execution_count": 192,
     "metadata": {},
     "output_type": "execute_result"
    }
   ],
   "source": [
    "df.HIGH_SCHL_GPA.isna().sum()"
   ]
  },
  {
   "cell_type": "markdown",
   "id": "62fa7e41",
   "metadata": {},
   "source": [
    "##### Conclusion : \n",
    "\n",
    "As find 53 null value , not able to find accurate trend so imputing value with 0 considering 53 student were absent at the time of exam."
   ]
  },
  {
   "cell_type": "markdown",
   "id": "93f3339d",
   "metadata": {},
   "source": [
    "#### 12. HIGH_SCHL_NAME"
   ]
  },
  {
   "cell_type": "code",
   "execution_count": 195,
   "id": "c15b9f8e",
   "metadata": {
    "scrolled": true
   },
   "outputs": [
    {
     "data": {
      "text/plain": [
       "439"
      ]
     },
     "execution_count": 195,
     "metadata": {},
     "output_type": "execute_result"
    }
   ],
   "source": [
    "df.HIGH_SCHL_NAME.nunique()"
   ]
  },
  {
   "cell_type": "code",
   "execution_count": 196,
   "id": "dfe56b0b",
   "metadata": {},
   "outputs": [
    {
     "data": {
      "text/plain": [
       "STUDENT IDENTIFIER\n",
       "7755837    SCHOOL 130\n",
       "7755888    SCHOOL 130\n",
       "7755911    SCHOOL 286\n",
       "7755980    SCHOOL 109\n",
       "7756046     SCHOOL 46\n",
       "Name: HIGH_SCHL_NAME, dtype: object"
      ]
     },
     "execution_count": 196,
     "metadata": {},
     "output_type": "execute_result"
    }
   ],
   "source": [
    "df.HIGH_SCHL_NAME.head()"
   ]
  },
  {
   "cell_type": "code",
   "execution_count": 194,
   "id": "da762abe",
   "metadata": {},
   "outputs": [
    {
     "data": {
      "text/plain": [
       "1"
      ]
     },
     "execution_count": 194,
     "metadata": {},
     "output_type": "execute_result"
    }
   ],
   "source": [
    "df.HIGH_SCHL_NAME.isna().sum()"
   ]
  },
  {
   "cell_type": "markdown",
   "id": "553b1340",
   "metadata": {},
   "source": [
    "##### Conclusion : \n",
    "\n",
    "HIGH_SCHL_NAME is Categorical data having 439 unique values. which is of high Cardinality. So, droping it from the Dataframe."
   ]
  },
  {
   "cell_type": "markdown",
   "id": "ff31639f",
   "metadata": {},
   "source": [
    "#### 13.     \n",
    "#### FATHER_HI_EDU_CD\n",
    "#### FATHER_HI_EDU_DESC\n",
    "#### MOTHER_HI_EDU_CD\n",
    "#### MOTHER_HI_EDU_DESC\n",
    "#### DEGREE_GROUP_DESC\n",
    "#### DEGREE_GROUP_CD"
   ]
  },
  {
   "cell_type": "code",
   "execution_count": 220,
   "id": "66e11bb5",
   "metadata": {},
   "outputs": [
    {
     "data": {
      "text/plain": [
       "0"
      ]
     },
     "execution_count": 220,
     "metadata": {},
     "output_type": "execute_result"
    }
   ],
   "source": [
    "df.FATHER_HI_EDU_CD.isna().sum()"
   ]
  },
  {
   "cell_type": "code",
   "execution_count": 231,
   "id": "03c21d9d",
   "metadata": {},
   "outputs": [
    {
     "data": {
      "text/plain": [
       "DEGREE_GROUP_DESC  DEGREE_GROUP_CD\n",
       "Bachelors          B                  3384\n",
       "Associate          A                    12\n",
       "Career Associate   V                     4\n",
       "dtype: int64"
      ]
     },
     "execution_count": 231,
     "metadata": {},
     "output_type": "execute_result"
    }
   ],
   "source": [
    "df[[\"DEGREE_GROUP_DESC\", \"DEGREE_GROUP_CD\"]].value_counts()"
   ]
  },
  {
   "cell_type": "code",
   "execution_count": 234,
   "id": "36d21b87",
   "metadata": {},
   "outputs": [
    {
     "data": {
      "text/plain": [
       "FATHER_HI_EDU_CD  FATHER_HI_EDU_DESC       \n",
       "2.0               High School                  1336\n",
       "3.0               College/Beyond               1309\n",
       "0.0               No Information                432\n",
       "4.0               Other/Unknown                 226\n",
       "1.0               Middle School/Junior High      97\n",
       "dtype: int64"
      ]
     },
     "execution_count": 234,
     "metadata": {},
     "output_type": "execute_result"
    }
   ],
   "source": [
    "df[[\"FATHER_HI_EDU_DESC\",\"FATHER_HI_EDU_CD\"]].value_counts()"
   ]
  },
  {
   "cell_type": "code",
   "execution_count": 235,
   "id": "d4d53596",
   "metadata": {},
   "outputs": [
    {
     "data": {
      "text/plain": [
       "MOTHER_HI_EDU_DESC         MOTHER_HI_EDU_CD\n",
       "College/Beyond             3.0                 1500\n",
       "High School                2.0                 1223\n",
       "Other/Unknown              4.0                  117\n",
       "Middle School/Junior High  1.0                   71\n",
       "dtype: int64"
      ]
     },
     "execution_count": 235,
     "metadata": {},
     "output_type": "execute_result"
    }
   ],
   "source": [
    "df[[\"MOTHER_HI_EDU_DESC\",\"MOTHER_HI_EDU_CD\",]].value_counts()"
   ]
  },
  {
   "cell_type": "code",
   "execution_count": null,
   "id": "10fcab73",
   "metadata": {},
   "outputs": [],
   "source": []
  },
  {
   "cell_type": "code",
   "execution_count": 211,
   "id": "c18a0f95",
   "metadata": {},
   "outputs": [
    {
     "data": {
      "text/plain": [
       "array([2., 3., 4., 0., 1.])"
      ]
     },
     "execution_count": 211,
     "metadata": {},
     "output_type": "execute_result"
    }
   ],
   "source": [
    "df.FATHER_HI_EDU_CD.unique()"
   ]
  },
  {
   "cell_type": "code",
   "execution_count": 212,
   "id": "e2a8dc6b",
   "metadata": {},
   "outputs": [
    {
     "data": {
      "text/plain": [
       "High School                  1336\n",
       "College/Beyond               1309\n",
       "No Information                432\n",
       "Other/Unknown                 226\n",
       "Middle School/Junior High      97\n",
       "Name: FATHER_HI_EDU_DESC, dtype: int64"
      ]
     },
     "execution_count": 212,
     "metadata": {},
     "output_type": "execute_result"
    }
   ],
   "source": [
    "df.FATHER_HI_EDU_DESC.value_counts()"
   ]
  },
  {
   "cell_type": "code",
   "execution_count": 219,
   "id": "ee56ca57",
   "metadata": {},
   "outputs": [],
   "source": [
    "df[\"FATHER_HI_EDU_CD\"].fillna(0,inplace = True)"
   ]
  },
  {
   "cell_type": "code",
   "execution_count": 218,
   "id": "5000c30b",
   "metadata": {},
   "outputs": [
    {
     "data": {
      "text/plain": [
       "STUDENT IDENTIFIER\n",
       "7755837    2.0\n",
       "7755888    3.0\n",
       "7755911    3.0\n",
       "7755980    2.0\n",
       "7756046    3.0\n",
       "          ... \n",
       "8036665    0.0\n",
       "8036667    0.0\n",
       "8036848    2.0\n",
       "8037074    0.0\n",
       "8037098    2.0\n",
       "Name: FATHER_HI_EDU_CD, Length: 3400, dtype: float64"
      ]
     },
     "execution_count": 218,
     "metadata": {},
     "output_type": "execute_result"
    }
   ],
   "source": [
    "df.FATHER_HI_EDU_CD\n"
   ]
  },
  {
   "cell_type": "code",
   "execution_count": 217,
   "id": "1242d6ff",
   "metadata": {},
   "outputs": [
    {
     "data": {
      "text/plain": [
       "STUDENT IDENTIFIER\n",
       "7755837       High School\n",
       "7755888    College/Beyond\n",
       "7755911    College/Beyond\n",
       "7755980       High School\n",
       "7756046    College/Beyond\n",
       "                ...      \n",
       "8036665    No Information\n",
       "8036667    No Information\n",
       "8036848       High School\n",
       "8037074    No Information\n",
       "8037098       High School\n",
       "Name: FATHER_HI_EDU_DESC, Length: 3400, dtype: object"
      ]
     },
     "execution_count": 217,
     "metadata": {},
     "output_type": "execute_result"
    }
   ],
   "source": [
    "df.FATHER_HI_EDU_DESC\n"
   ]
  },
  {
   "cell_type": "code",
   "execution_count": 247,
   "id": "b358fc06",
   "metadata": {},
   "outputs": [
    {
     "data": {
      "text/plain": [
       "STUDENT IDENTIFIER\n",
       "7755837    3.0\n",
       "7755888    3.0\n",
       "7755911    2.0\n",
       "7755980    2.0\n",
       "7756046    2.0\n",
       "          ... \n",
       "8036665    NaN\n",
       "8036667    NaN\n",
       "8036848    2.0\n",
       "8037074    NaN\n",
       "8037098    3.0\n",
       "Name: MOTHER_HI_EDU_CD, Length: 3400, dtype: float64"
      ]
     },
     "execution_count": 247,
     "metadata": {},
     "output_type": "execute_result"
    }
   ],
   "source": [
    "df.MOTHER_HI_EDU_CD\n"
   ]
  },
  {
   "cell_type": "markdown",
   "id": "011e4561",
   "metadata": {},
   "source": [
    "##### Conclusion : \n",
    "\n",
    "found"
   ]
  },
  {
   "cell_type": "markdown",
   "id": "5c34ea86",
   "metadata": {},
   "source": [
    "#### 14.   FIND MULTICOLINEARITY"
   ]
  },
  {
   "cell_type": "code",
   "execution_count": 311,
   "id": "5aff3495",
   "metadata": {},
   "outputs": [],
   "source": [
    "Corr = df.select_dtypes(\"number\").corr()"
   ]
  },
  {
   "cell_type": "code",
   "execution_count": 312,
   "id": "06658faa",
   "metadata": {},
   "outputs": [
    {
     "data": {
      "image/png": "[encoded data removed]",
      "text/plain": [
       "<Figure size 1152x576 with 2 Axes>"
      ]
     },
     "metadata": {
      "needs_background": "light"
     },
     "output_type": "display_data"
    }
   ],
   "source": [
    "plt.figure(figsize= (16,8))\n",
    "sns.heatmap(Corr, annot = True)\n",
    "plt.show()"
   ]
  },
  {
   "cell_type": "code",
   "execution_count": 313,
   "id": "82f882d9",
   "metadata": {},
   "outputs": [
    {
     "name": "stdout",
     "output_type": "stream",
     "text": [
      "<class 'pandas.core.frame.DataFrame'>\n",
      "Int64Index: 3400 entries, 7755837 to 8037098\n",
      "Data columns (total 34 columns):\n",
      " #   Column                    Non-Null Count  Dtype  \n",
      "---  ------                    --------------  -----  \n",
      " 0   STDNT_AGE                 3400 non-null   int64  \n",
      " 1   STDNT_GENDER              3400 non-null   object \n",
      " 2   STDNT_BACKGROUND          3400 non-null   object \n",
      " 3   IN_STATE_FLAG             3400 non-null   object \n",
      " 4   INTERNATIONAL_STS         3400 non-null   object \n",
      " 5   STDNT_MAJOR               3400 non-null   object \n",
      " 6   STDNT_TEST_ENTRANCE_COMB  2882 non-null   float64\n",
      " 7   FIRST_TERM                3400 non-null   int64  \n",
      " 8   CORE_COURSE_NAME_1_F      3400 non-null   object \n",
      " 9   CORE_COURSE_GRADE_1_F     3400 non-null   object \n",
      " 10  CORE_COURSE_NAME_2_F      3301 non-null   object \n",
      " 11  CORE_COURSE_GRADE_2_F     3301 non-null   object \n",
      " 12  CORE_COURSE_NAME_3_F      2835 non-null   object \n",
      " 13  CORE_COURSE_GRADE_3_F     2835 non-null   object \n",
      " 14  CORE_COURSE_NAME_4_F      1803 non-null   object \n",
      " 15  CORE_COURSE_GRADE_4_F     1803 non-null   object \n",
      " 16  CORE_COURSE_NAME_1_S      3243 non-null   object \n",
      " 17  CORE_COURSE_GRADE_1_S     3168 non-null   object \n",
      " 18  CORE_COURSE_NAME_2_S      2961 non-null   object \n",
      " 19  CORE_COURSE_GRADE_2_S     2961 non-null   object \n",
      " 20  CORE_COURSE_NAME_3_S      2362 non-null   object \n",
      " 21  CORE_COURSE_GRADE_3_S     2362 non-null   object \n",
      " 22  HOUSING_STS               3400 non-null   object \n",
      " 23  RETURNED_2ND_YR           3400 non-null   int64  \n",
      " 24  DISTANCE_FROM_HOME        3375 non-null   float64\n",
      " 25  HIGH_SCHL_GPA             3347 non-null   float64\n",
      " 26  DEGREE_GROUP_CD           3400 non-null   object \n",
      " 27  FIRST_TERM_ATTEMPT_HRS    3400 non-null   int64  \n",
      " 28  FIRST_TERM_EARNED_HRS     3400 non-null   int64  \n",
      " 29  SECOND_TERM_ATTEMPT_HRS   3194 non-null   float64\n",
      " 30  SECOND_TERM_EARNED_HRS    3191 non-null   float64\n",
      " 31  COST_OF_ATTEND            3400 non-null   int64  \n",
      " 32  EST_FAM_CONTRIBUTION      3400 non-null   int64  \n",
      " 33  UNMET_NEED                3400 non-null   float64\n",
      "dtypes: float64(6), int64(7), object(21)\n",
      "memory usage: 929.7+ KB\n"
     ]
    }
   ],
   "source": [
    "df.info()"
   ]
  },
  {
   "cell_type": "markdown",
   "id": "7d44baaa",
   "metadata": {},
   "source": [
    "##### Conclusion : \n",
    "\n",
    "Droped Column With high Multicolinearity\n",
    "\"FATHER_HI_EDU_DESC\",\"MOTHER_HI_EDU_DESC\",\"DEGREE_GROUP_DESC\",\"STDNT_TEST_ENTRANCE1\",\"STDNT_TEST_ENTRANCE2\",\"GROSS_FIN_NEED\",\"SECOND_TERM\""
   ]
  },
  {
   "cell_type": "markdown",
   "id": "9048df58",
   "metadata": {},
   "source": [
    "#### 15. Check Cardinality"
   ]
  },
  {
   "cell_type": "code",
   "execution_count": 326,
   "id": "14f9722c",
   "metadata": {},
   "outputs": [
    {
     "name": "stdout",
     "output_type": "stream",
     "text": [
      "<class 'pandas.core.frame.DataFrame'>\n",
      "Int64Index: 3400 entries, 7755837 to 8037098\n",
      "Data columns (total 14 columns):\n",
      " #   Column                 Non-Null Count  Dtype \n",
      "---  ------                 --------------  ----- \n",
      " 0   STDNT_GENDER           3400 non-null   object\n",
      " 1   STDNT_BACKGROUND       3400 non-null   object\n",
      " 2   IN_STATE_FLAG          3400 non-null   object\n",
      " 3   INTERNATIONAL_STS      3400 non-null   object\n",
      " 4   STDNT_MAJOR            3400 non-null   object\n",
      " 5   CORE_COURSE_GRADE_1_F  3400 non-null   object\n",
      " 6   CORE_COURSE_GRADE_2_F  3301 non-null   object\n",
      " 7   CORE_COURSE_GRADE_3_F  2835 non-null   object\n",
      " 8   CORE_COURSE_GRADE_4_F  1803 non-null   object\n",
      " 9   CORE_COURSE_GRADE_1_S  3168 non-null   object\n",
      " 10  CORE_COURSE_GRADE_2_S  2961 non-null   object\n",
      " 11  CORE_COURSE_GRADE_3_S  2362 non-null   object\n",
      " 12  HOUSING_STS            3400 non-null   object\n",
      " 13  DEGREE_GROUP_CD        3400 non-null   object\n",
      "dtypes: object(14)\n",
      "memory usage: 398.4+ KB\n"
     ]
    }
   ],
   "source": [
    "df.select_dtypes(\"object\").info()"
   ]
  },
  {
   "cell_type": "code",
   "execution_count": 327,
   "id": "57673f87",
   "metadata": {},
   "outputs": [
    {
     "data": {
      "text/plain": [
       "STDNT_GENDER              2\n",
       "IN_STATE_FLAG             2\n",
       "INTERNATIONAL_STS         2\n",
       "HOUSING_STS               2\n",
       "DEGREE_GROUP_CD           3\n",
       "CORE_COURSE_GRADE_3_F     6\n",
       "CORE_COURSE_GRADE_4_F     6\n",
       "CORE_COURSE_GRADE_2_S     6\n",
       "CORE_COURSE_GRADE_3_S     6\n",
       "CORE_COURSE_GRADE_1_F     7\n",
       "CORE_COURSE_GRADE_2_F     7\n",
       "STDNT_BACKGROUND          8\n",
       "CORE_COURSE_GRADE_1_S     8\n",
       "STDNT_MAJOR              54\n",
       "dtype: int64"
      ]
     },
     "execution_count": 327,
     "metadata": {},
     "output_type": "execute_result"
    }
   ],
   "source": [
    "df.select_dtypes(\"object\").nunique().sort_values()"
   ]
  },
  {
   "cell_type": "code",
   "execution_count": 338,
   "id": "eda3551d",
   "metadata": {},
   "outputs": [
    {
     "name": "stdout",
     "output_type": "stream",
     "text": [
      "<class 'pandas.core.frame.DataFrame'>\n",
      "Int64Index: 3400 entries, 7755837 to 8037098\n",
      "Data columns (total 20 columns):\n",
      " #   Column                    Non-Null Count  Dtype  \n",
      "---  ------                    --------------  -----  \n",
      " 0   STDNT_AGE                 3400 non-null   int64  \n",
      " 1   STDNT_GENDER              3400 non-null   object \n",
      " 2   STDNT_BACKGROUND          3400 non-null   object \n",
      " 3   IN_STATE_FLAG             3400 non-null   object \n",
      " 4   INTERNATIONAL_STS         3400 non-null   object \n",
      " 5   STDNT_MAJOR               3400 non-null   object \n",
      " 6   STDNT_TEST_ENTRANCE_COMB  2882 non-null   float64\n",
      " 7   FIRST_TERM                3400 non-null   int64  \n",
      " 8   HOUSING_STS               3400 non-null   object \n",
      " 9   RETURNED_2ND_YR           3400 non-null   int64  \n",
      " 10  DISTANCE_FROM_HOME        3375 non-null   float64\n",
      " 11  HIGH_SCHL_GPA             3347 non-null   float64\n",
      " 12  DEGREE_GROUP_CD           3400 non-null   object \n",
      " 13  FIRST_TERM_ATTEMPT_HRS    3400 non-null   int64  \n",
      " 14  FIRST_TERM_EARNED_HRS     3400 non-null   int64  \n",
      " 15  SECOND_TERM_ATTEMPT_HRS   3194 non-null   float64\n",
      " 16  SECOND_TERM_EARNED_HRS    3191 non-null   float64\n",
      " 17  COST_OF_ATTEND            3400 non-null   int64  \n",
      " 18  EST_FAM_CONTRIBUTION      3400 non-null   int64  \n",
      " 19  UNMET_NEED                3400 non-null   float64\n",
      "dtypes: float64(6), int64(7), object(7)\n",
      "memory usage: 557.8+ KB\n"
     ]
    }
   ],
   "source": [
    "df.info()"
   ]
  },
  {
   "cell_type": "markdown",
   "id": "8e5df61c",
   "metadata": {},
   "source": [
    "#### CONCLUSION : \n",
    "Droping column with high cardinality."
   ]
  },
  {
   "cell_type": "markdown",
   "id": "0752f71b",
   "metadata": {},
   "source": [
    "## split"
   ]
  },
  {
   "cell_type": "code",
   "execution_count": 158,
   "id": "52b0b710",
   "metadata": {},
   "outputs": [],
   "source": [
    "# vertical split\n",
    "\n",
    "target = \"Attrition\"\n",
    "# Target Vector\n",
    "y = df[target]\n",
    "\n",
    "# Feature Metrix\n",
    "X = df.drop(columns= \"Attrition\")\n",
    "\n",
    "# horizontal split\n",
    "X_train, X_test, y_train, y_test = train_test_split(X, y, test_size=0.2, random_state=42)"
   ]
  },
  {
   "cell_type": "code",
   "execution_count": 159,
   "id": "bbe616a1",
   "metadata": {},
   "outputs": [
    {
     "data": {
      "text/plain": [
       "(3400,)"
      ]
     },
     "execution_count": 159,
     "metadata": {},
     "output_type": "execute_result"
    }
   ],
   "source": [
    "y.shape"
   ]
  },
  {
   "cell_type": "code",
   "execution_count": 160,
   "id": "822a6e5a",
   "metadata": {},
   "outputs": [
    {
     "data": {
      "text/plain": [
       "STUDENT IDENTIFIER\n",
       "7755837    0\n",
       "7755888    1\n",
       "7755911    1\n",
       "7755980    1\n",
       "7756046    0\n",
       "          ..\n",
       "8036665    0\n",
       "8036667    0\n",
       "8036848    0\n",
       "8037074    0\n",
       "8037098    0\n",
       "Name: Attrition, Length: 3400, dtype: int64"
      ]
     },
     "execution_count": 160,
     "metadata": {},
     "output_type": "execute_result"
    }
   ],
   "source": [
    "y"
   ]
  },
  {
   "cell_type": "code",
   "execution_count": 161,
   "id": "d960c6a7",
   "metadata": {},
   "outputs": [],
   "source": []
  },
  {
   "cell_type": "code",
   "execution_count": 162,
   "id": "cfe8427b",
   "metadata": {},
   "outputs": [
    {
     "data": {
      "text/plain": [
       "(3400, 18)"
      ]
     },
     "execution_count": 162,
     "metadata": {},
     "output_type": "execute_result"
    }
   ],
   "source": [
    "X.shape"
   ]
  },
  {
   "cell_type": "code",
   "execution_count": 163,
   "id": "28f8b394",
   "metadata": {},
   "outputs": [],
   "source": []
  },
  {
   "cell_type": "code",
   "execution_count": 164,
   "id": "c7aeb99e",
   "metadata": {},
   "outputs": [
    {
     "name": "stdout",
     "output_type": "stream",
     "text": [
      "(2720, 18)\n",
      "(680, 18)\n",
      "(2720,)\n",
      "(680,)\n"
     ]
    }
   ],
   "source": [
    "print(X_train.shape)\n",
    "print(X_test.shape)\n",
    "print(y_train.shape)\n",
    "print(y_test.shape)"
   ]
  },
  {
   "cell_type": "code",
   "execution_count": null,
   "id": "fb8f56d8",
   "metadata": {},
   "outputs": [],
   "source": []
  },
  {
   "cell_type": "markdown",
   "id": "126e6064",
   "metadata": {},
   "source": [
    "## Baseline"
   ]
  },
  {
   "cell_type": "code",
   "execution_count": 165,
   "id": "478216ce",
   "metadata": {
    "scrolled": true
   },
   "outputs": [
    {
     "name": "stdout",
     "output_type": "stream",
     "text": [
      "Baseline Accuracy: 0.7801\n"
     ]
    }
   ],
   "source": [
    "acc_baseline = y_train.value_counts(normalize=True).max()\n",
    "print(\"Baseline Accuracy:\", round(acc_baseline, 4))"
   ]
  },
  {
   "cell_type": "code",
   "execution_count": 166,
   "id": "841afa41",
   "metadata": {},
   "outputs": [
    {
     "data": {
      "image/png": "[encoded data removed]",
      "text/plain": [
       "<Figure size 432x288 with 1 Axes>"
      ]
     },
     "metadata": {
      "needs_background": "light"
     },
     "output_type": "display_data"
    }
   ],
   "source": [
    "y_train.value_counts(normalize=True).plot(kind = \"bar\");"
   ]
  },
  {
   "cell_type": "markdown",
   "id": "3701f9dd",
   "metadata": {},
   "source": [
    "## Iterate"
   ]
  },
  {
   "cell_type": "markdown",
   "id": "bd12543f",
   "metadata": {},
   "source": [
    "#### Logistic Regression"
   ]
  },
  {
   "cell_type": "code",
   "execution_count": 167,
   "id": "c008063f",
   "metadata": {},
   "outputs": [
    {
     "data": {
      "text/plain": [
       "Pipeline(steps=[('onehotencoder',\n",
       "                 OneHotEncoder(cols=['STDNT_GENDER', 'STDNT_BACKGROUND',\n",
       "                                     'IN_STATE_FLAG', 'INTERNATIONAL_STS',\n",
       "                                     'STDNT_MAJOR', 'HOUSING_STS',\n",
       "                                     'DEGREE_GROUP_CD'],\n",
       "                               use_cat_names=True)),\n",
       "                ('simpleimputer', SimpleImputer()),\n",
       "                ('logisticregression', LogisticRegression())])"
      ]
     },
     "execution_count": 167,
     "metadata": {},
     "output_type": "execute_result"
    }
   ],
   "source": [
    "# Build model Logistic Regression\n",
    "model_lr = make_pipeline(\n",
    "    OneHotEncoder(use_cat_names=True),\n",
    "    SimpleImputer(),\n",
    "    LogisticRegression()\n",
    ")\n",
    "# Fit model to training data\n",
    "model_lr.fit(X_train, y_train)"
   ]
  },
  {
   "cell_type": "markdown",
   "id": "ff0d9ba5",
   "metadata": {},
   "source": [
    "#### Decision Tree Classifier"
   ]
  },
  {
   "cell_type": "code",
   "execution_count": 168,
   "id": "bb51ae88",
   "metadata": {},
   "outputs": [
    {
     "data": {
      "text/plain": [
       "Pipeline(steps=[('ordinalencoder',\n",
       "                 OrdinalEncoder(cols=['STDNT_GENDER', 'STDNT_BACKGROUND',\n",
       "                                      'IN_STATE_FLAG', 'INTERNATIONAL_STS',\n",
       "                                      'STDNT_MAJOR', 'HOUSING_STS',\n",
       "                                      'DEGREE_GROUP_CD'],\n",
       "                                mapping=[{'col': 'STDNT_GENDER',\n",
       "                                          'data_type': dtype('O'),\n",
       "                                          'mapping': F      1\n",
       "M      2\n",
       "NaN   -2\n",
       "dtype: int64},\n",
       "                                         {'col': 'STDNT_BACKGROUND',\n",
       "                                          'data_type': dtype('O'),\n",
       "                                          'mapping': BGD 1    1\n",
       "BGD 7    2\n",
       "BGD 3    3\n",
       "BGD 6    4\n",
       "BGD 4    5\n",
       "BGD 2    6\n",
       "BGD...\n",
       "Geology                           51\n",
       "French                            52\n",
       "Chemistry and Secondary Ed        53\n",
       "NaN                               -2\n",
       "dtype: int64},\n",
       "                                         {'col': 'HOUSING_STS',\n",
       "                                          'data_type': dtype('O'),\n",
       "                                          'mapping': On Campus     1\n",
       "Off Campus    2\n",
       "NaN          -2\n",
       "dtype: int64},\n",
       "                                         {'col': 'DEGREE_GROUP_CD',\n",
       "                                          'data_type': dtype('O'),\n",
       "                                          'mapping': B      1\n",
       "A      2\n",
       "V      3\n",
       "NaN   -2\n",
       "dtype: int64}])),\n",
       "                ('simpleimputer', SimpleImputer()),\n",
       "                ('decisiontreeclassifier',\n",
       "                 DecisionTreeClassifier(max_depth=4, random_state=42))])"
      ]
     },
     "execution_count": 168,
     "metadata": {},
     "output_type": "execute_result"
    }
   ],
   "source": [
    "# Build model DecisionTreeClassifier\n",
    "model_dt = make_pipeline(\n",
    "    OrdinalEncoder(),\n",
    "    SimpleImputer(),\n",
    "    DecisionTreeClassifier(max_depth=4,random_state=42)\n",
    ")\n",
    "# Fit model to training data\n",
    "model_dt.fit(X_train, y_train)"
   ]
  },
  {
   "cell_type": "markdown",
   "id": "a2a8a2d5",
   "metadata": {},
   "source": [
    "#### Random Forest Classifier"
   ]
  },
  {
   "cell_type": "code",
   "execution_count": 169,
   "id": "c8f83149",
   "metadata": {},
   "outputs": [
    {
     "name": "stdout",
     "output_type": "stream",
     "text": [
      "Pipeline(steps=[('ordinalencoder', OrdinalEncoder()),\n",
      "                ('simpleimputer', SimpleImputer()),\n",
      "                ('randomforestclassifier',\n",
      "                 RandomForestClassifier(random_state=42))])\n"
     ]
    }
   ],
   "source": [
    "## Pipeline buildding # Classifier\n",
    "\n",
    "clf = make_pipeline(OrdinalEncoder(),SimpleImputer(),RandomForestClassifier(random_state=42))\n",
    "print(clf)"
   ]
  },
  {
   "cell_type": "code",
   "execution_count": 170,
   "id": "00f665f2",
   "metadata": {},
   "outputs": [
    {
     "name": "stdout",
     "output_type": "stream",
     "text": [
      "[0.82720588 0.80330882 0.81066176 0.80514706 0.81617647]\n"
     ]
    }
   ],
   "source": [
    "# cross-validation for Classsifier\n",
    "\n",
    "cv_acc_scores = cross_val_score(clf, X_train, y_train, cv = 5, n_jobs=-1)\n",
    "print(cv_acc_scores)"
   ]
  },
  {
   "cell_type": "code",
   "execution_count": 171,
   "id": "710b6252",
   "metadata": {},
   "outputs": [
    {
     "data": {
      "text/plain": [
       "{'simpleimputer__strategy': ['mean', 'median'],\n",
       " 'randomforestclassifier__n_estimators': range(25, 100, 25),\n",
       " 'randomforestclassifier__max_depth': range(10, 50, 10)}"
      ]
     },
     "execution_count": 171,
     "metadata": {},
     "output_type": "execute_result"
    }
   ],
   "source": [
    "# the range of hyperparameters\n",
    "\n",
    "params = {\n",
    "    \"simpleimputer__strategy\": [\"mean\", \"median\"],\n",
    "    \"randomforestclassifier__n_estimators\": range(25,100,25),\n",
    "    \"randomforestclassifier__max_depth\": range(10,50,10)\n",
    "}\n",
    "params"
   ]
  },
  {
   "cell_type": "code",
   "execution_count": 172,
   "id": "3b4a21ff",
   "metadata": {},
   "outputs": [
    {
     "data": {
      "text/plain": [
       "GridSearchCV(cv=5,\n",
       "             estimator=Pipeline(steps=[('ordinalencoder', OrdinalEncoder()),\n",
       "                                       ('simpleimputer', SimpleImputer()),\n",
       "                                       ('randomforestclassifier',\n",
       "                                        RandomForestClassifier(random_state=42))]),\n",
       "             n_jobs=-1,\n",
       "             param_grid={'randomforestclassifier__max_depth': range(10, 50, 10),\n",
       "                         'randomforestclassifier__n_estimators': range(25, 100, 25),\n",
       "                         'simpleimputer__strategy': ['mean', 'median']},\n",
       "             verbose=1)"
      ]
     },
     "execution_count": 172,
     "metadata": {},
     "output_type": "execute_result"
    }
   ],
   "source": [
    "# Created a GridSearchCV named model that includes out classifier and hyperparameter grid\n",
    "\n",
    "model_rf = GridSearchCV(\n",
    "    clf,\n",
    "    param_grid=params,\n",
    "    cv=5,\n",
    "    n_jobs=-1,\n",
    "    verbose=1\n",
    ")\n",
    "model_rf"
   ]
  },
  {
   "cell_type": "code",
   "execution_count": 173,
   "id": "b4b33c7f",
   "metadata": {},
   "outputs": [
    {
     "name": "stdout",
     "output_type": "stream",
     "text": [
      "Fitting 5 folds for each of 24 candidates, totalling 120 fits\n"
     ]
    },
    {
     "data": {
      "text/plain": [
       "GridSearchCV(cv=5,\n",
       "             estimator=Pipeline(steps=[('ordinalencoder', OrdinalEncoder()),\n",
       "                                       ('simpleimputer', SimpleImputer()),\n",
       "                                       ('randomforestclassifier',\n",
       "                                        RandomForestClassifier(random_state=42))]),\n",
       "             n_jobs=-1,\n",
       "             param_grid={'randomforestclassifier__max_depth': range(10, 50, 10),\n",
       "                         'randomforestclassifier__n_estimators': range(25, 100, 25),\n",
       "                         'simpleimputer__strategy': ['mean', 'median']},\n",
       "             verbose=1)"
      ]
     },
     "execution_count": 173,
     "metadata": {},
     "output_type": "execute_result"
    }
   ],
   "source": [
    "# Train model\n",
    "model_rf.fit(X_train, y_train)"
   ]
  },
  {
   "cell_type": "code",
   "execution_count": 174,
   "id": "c592b087",
   "metadata": {},
   "outputs": [],
   "source": [
    "# Extracted the cross-validation results from model and loaded them into a DataFrame named cv_results"
   ]
  },
  {
   "cell_type": "code",
   "execution_count": 175,
   "id": "80924002",
   "metadata": {},
   "outputs": [
    {
     "data": {
      "text/plain": [
       "dict"
      ]
     },
     "execution_count": 175,
     "metadata": {},
     "output_type": "execute_result"
    }
   ],
   "source": [
    "type(model_rf.cv_results_)"
   ]
  },
  {
   "cell_type": "code",
   "execution_count": 176,
   "id": "db0ca94b",
   "metadata": {},
   "outputs": [
    {
     "data": {
      "text/html": [
       "<div>\n",
       "<style scoped>\n",
       "    .dataframe tbody tr th:only-of-type {\n",
       "        vertical-align: middle;\n",
       "    }\n",
       "\n",
       "    .dataframe tbody tr th {\n",
       "        vertical-align: top;\n",
       "    }\n",
       "\n",
       "    .dataframe thead th {\n",
       "        text-align: right;\n",
       "    }\n",
       "</style>\n",
       "<table border=\"1\" class=\"dataframe\">\n",
       "  <thead>\n",
       "    <tr style=\"text-align: right;\">\n",
       "      <th></th>\n",
       "      <th>mean_fit_time</th>\n",
       "      <th>std_fit_time</th>\n",
       "      <th>mean_score_time</th>\n",
       "      <th>std_score_time</th>\n",
       "      <th>param_randomforestclassifier__max_depth</th>\n",
       "      <th>param_randomforestclassifier__n_estimators</th>\n",
       "      <th>param_simpleimputer__strategy</th>\n",
       "      <th>params</th>\n",
       "      <th>split0_test_score</th>\n",
       "      <th>split1_test_score</th>\n",
       "      <th>split2_test_score</th>\n",
       "      <th>split3_test_score</th>\n",
       "      <th>split4_test_score</th>\n",
       "      <th>mean_test_score</th>\n",
       "      <th>std_test_score</th>\n",
       "      <th>rank_test_score</th>\n",
       "    </tr>\n",
       "  </thead>\n",
       "  <tbody>\n",
       "    <tr>\n",
       "      <th>8</th>\n",
       "      <td>0.270529</td>\n",
       "      <td>0.010535</td>\n",
       "      <td>0.022717</td>\n",
       "      <td>0.002716</td>\n",
       "      <td>20</td>\n",
       "      <td>50</td>\n",
       "      <td>mean</td>\n",
       "      <td>{'randomforestclassifier__max_depth': 20, 'ran...</td>\n",
       "      <td>0.827206</td>\n",
       "      <td>0.805147</td>\n",
       "      <td>0.819853</td>\n",
       "      <td>0.812500</td>\n",
       "      <td>0.808824</td>\n",
       "      <td>0.814706</td>\n",
       "      <td>0.007919</td>\n",
       "      <td>1</td>\n",
       "    </tr>\n",
       "    <tr>\n",
       "      <th>10</th>\n",
       "      <td>0.368780</td>\n",
       "      <td>0.017635</td>\n",
       "      <td>0.027126</td>\n",
       "      <td>0.003228</td>\n",
       "      <td>20</td>\n",
       "      <td>75</td>\n",
       "      <td>mean</td>\n",
       "      <td>{'randomforestclassifier__max_depth': 20, 'ran...</td>\n",
       "      <td>0.827206</td>\n",
       "      <td>0.806985</td>\n",
       "      <td>0.818015</td>\n",
       "      <td>0.805147</td>\n",
       "      <td>0.816176</td>\n",
       "      <td>0.814706</td>\n",
       "      <td>0.008004</td>\n",
       "      <td>1</td>\n",
       "    </tr>\n",
       "    <tr>\n",
       "      <th>4</th>\n",
       "      <td>0.371405</td>\n",
       "      <td>0.016912</td>\n",
       "      <td>0.034057</td>\n",
       "      <td>0.012845</td>\n",
       "      <td>10</td>\n",
       "      <td>75</td>\n",
       "      <td>mean</td>\n",
       "      <td>{'randomforestclassifier__max_depth': 10, 'ran...</td>\n",
       "      <td>0.812500</td>\n",
       "      <td>0.814338</td>\n",
       "      <td>0.816176</td>\n",
       "      <td>0.799632</td>\n",
       "      <td>0.816176</td>\n",
       "      <td>0.811765</td>\n",
       "      <td>0.006217</td>\n",
       "      <td>3</td>\n",
       "    </tr>\n",
       "    <tr>\n",
       "      <th>22</th>\n",
       "      <td>0.373660</td>\n",
       "      <td>0.049931</td>\n",
       "      <td>0.029056</td>\n",
       "      <td>0.007877</td>\n",
       "      <td>40</td>\n",
       "      <td>75</td>\n",
       "      <td>mean</td>\n",
       "      <td>{'randomforestclassifier__max_depth': 40, 'ran...</td>\n",
       "      <td>0.825368</td>\n",
       "      <td>0.799632</td>\n",
       "      <td>0.812500</td>\n",
       "      <td>0.806985</td>\n",
       "      <td>0.814338</td>\n",
       "      <td>0.811765</td>\n",
       "      <td>0.008512</td>\n",
       "      <td>4</td>\n",
       "    </tr>\n",
       "    <tr>\n",
       "      <th>2</th>\n",
       "      <td>0.224361</td>\n",
       "      <td>0.019587</td>\n",
       "      <td>0.021962</td>\n",
       "      <td>0.002328</td>\n",
       "      <td>10</td>\n",
       "      <td>50</td>\n",
       "      <td>mean</td>\n",
       "      <td>{'randomforestclassifier__max_depth': 10, 'ran...</td>\n",
       "      <td>0.816176</td>\n",
       "      <td>0.814338</td>\n",
       "      <td>0.814338</td>\n",
       "      <td>0.806985</td>\n",
       "      <td>0.805147</td>\n",
       "      <td>0.811397</td>\n",
       "      <td>0.004442</td>\n",
       "      <td>5</td>\n",
       "    </tr>\n",
       "    <tr>\n",
       "      <th>16</th>\n",
       "      <td>0.349450</td>\n",
       "      <td>0.020365</td>\n",
       "      <td>0.026412</td>\n",
       "      <td>0.003099</td>\n",
       "      <td>30</td>\n",
       "      <td>75</td>\n",
       "      <td>mean</td>\n",
       "      <td>{'randomforestclassifier__max_depth': 30, 'ran...</td>\n",
       "      <td>0.825368</td>\n",
       "      <td>0.801471</td>\n",
       "      <td>0.810662</td>\n",
       "      <td>0.805147</td>\n",
       "      <td>0.814338</td>\n",
       "      <td>0.811397</td>\n",
       "      <td>0.008270</td>\n",
       "      <td>5</td>\n",
       "    </tr>\n",
       "    <tr>\n",
       "      <th>14</th>\n",
       "      <td>0.259915</td>\n",
       "      <td>0.014887</td>\n",
       "      <td>0.019751</td>\n",
       "      <td>0.000794</td>\n",
       "      <td>30</td>\n",
       "      <td>50</td>\n",
       "      <td>mean</td>\n",
       "      <td>{'randomforestclassifier__max_depth': 30, 'ran...</td>\n",
       "      <td>0.818015</td>\n",
       "      <td>0.799632</td>\n",
       "      <td>0.818015</td>\n",
       "      <td>0.805147</td>\n",
       "      <td>0.801471</td>\n",
       "      <td>0.808456</td>\n",
       "      <td>0.008004</td>\n",
       "      <td>7</td>\n",
       "    </tr>\n",
       "    <tr>\n",
       "      <th>6</th>\n",
       "      <td>0.172200</td>\n",
       "      <td>0.020056</td>\n",
       "      <td>0.015850</td>\n",
       "      <td>0.001087</td>\n",
       "      <td>20</td>\n",
       "      <td>25</td>\n",
       "      <td>mean</td>\n",
       "      <td>{'randomforestclassifier__max_depth': 20, 'ran...</td>\n",
       "      <td>0.821691</td>\n",
       "      <td>0.799632</td>\n",
       "      <td>0.819853</td>\n",
       "      <td>0.805147</td>\n",
       "      <td>0.794118</td>\n",
       "      <td>0.808088</td>\n",
       "      <td>0.010943</td>\n",
       "      <td>8</td>\n",
       "    </tr>\n",
       "    <tr>\n",
       "      <th>18</th>\n",
       "      <td>0.135398</td>\n",
       "      <td>0.007590</td>\n",
       "      <td>0.015676</td>\n",
       "      <td>0.000648</td>\n",
       "      <td>40</td>\n",
       "      <td>25</td>\n",
       "      <td>mean</td>\n",
       "      <td>{'randomforestclassifier__max_depth': 40, 'ran...</td>\n",
       "      <td>0.821691</td>\n",
       "      <td>0.792279</td>\n",
       "      <td>0.816176</td>\n",
       "      <td>0.814338</td>\n",
       "      <td>0.794118</td>\n",
       "      <td>0.807721</td>\n",
       "      <td>0.012116</td>\n",
       "      <td>9</td>\n",
       "    </tr>\n",
       "    <tr>\n",
       "      <th>20</th>\n",
       "      <td>0.225101</td>\n",
       "      <td>0.003844</td>\n",
       "      <td>0.019153</td>\n",
       "      <td>0.000546</td>\n",
       "      <td>40</td>\n",
       "      <td>50</td>\n",
       "      <td>mean</td>\n",
       "      <td>{'randomforestclassifier__max_depth': 40, 'ran...</td>\n",
       "      <td>0.818015</td>\n",
       "      <td>0.795956</td>\n",
       "      <td>0.818015</td>\n",
       "      <td>0.803309</td>\n",
       "      <td>0.801471</td>\n",
       "      <td>0.807353</td>\n",
       "      <td>0.009035</td>\n",
       "      <td>10</td>\n",
       "    </tr>\n",
       "    <tr>\n",
       "      <th>12</th>\n",
       "      <td>0.165427</td>\n",
       "      <td>0.004113</td>\n",
       "      <td>0.021409</td>\n",
       "      <td>0.006410</td>\n",
       "      <td>30</td>\n",
       "      <td>25</td>\n",
       "      <td>mean</td>\n",
       "      <td>{'randomforestclassifier__max_depth': 30, 'ran...</td>\n",
       "      <td>0.816176</td>\n",
       "      <td>0.792279</td>\n",
       "      <td>0.812500</td>\n",
       "      <td>0.814338</td>\n",
       "      <td>0.794118</td>\n",
       "      <td>0.805882</td>\n",
       "      <td>0.010438</td>\n",
       "      <td>11</td>\n",
       "    </tr>\n",
       "    <tr>\n",
       "      <th>0</th>\n",
       "      <td>0.161048</td>\n",
       "      <td>0.013822</td>\n",
       "      <td>0.026134</td>\n",
       "      <td>0.008261</td>\n",
       "      <td>10</td>\n",
       "      <td>25</td>\n",
       "      <td>mean</td>\n",
       "      <td>{'randomforestclassifier__max_depth': 10, 'ran...</td>\n",
       "      <td>0.810662</td>\n",
       "      <td>0.806985</td>\n",
       "      <td>0.806985</td>\n",
       "      <td>0.799632</td>\n",
       "      <td>0.795956</td>\n",
       "      <td>0.804044</td>\n",
       "      <td>0.005403</td>\n",
       "      <td>12</td>\n",
       "    </tr>\n",
       "    <tr>\n",
       "      <th>3</th>\n",
       "      <td>0.246848</td>\n",
       "      <td>0.027885</td>\n",
       "      <td>0.022637</td>\n",
       "      <td>0.004167</td>\n",
       "      <td>10</td>\n",
       "      <td>50</td>\n",
       "      <td>median</td>\n",
       "      <td>{'randomforestclassifier__max_depth': 10, 'ran...</td>\n",
       "      <td>0.786765</td>\n",
       "      <td>0.786765</td>\n",
       "      <td>0.784926</td>\n",
       "      <td>0.777574</td>\n",
       "      <td>0.775735</td>\n",
       "      <td>0.782353</td>\n",
       "      <td>0.004737</td>\n",
       "      <td>13</td>\n",
       "    </tr>\n",
       "    <tr>\n",
       "      <th>5</th>\n",
       "      <td>0.332750</td>\n",
       "      <td>0.030534</td>\n",
       "      <td>0.030916</td>\n",
       "      <td>0.007130</td>\n",
       "      <td>10</td>\n",
       "      <td>75</td>\n",
       "      <td>median</td>\n",
       "      <td>{'randomforestclassifier__max_depth': 10, 'ran...</td>\n",
       "      <td>0.779412</td>\n",
       "      <td>0.784926</td>\n",
       "      <td>0.786765</td>\n",
       "      <td>0.775735</td>\n",
       "      <td>0.779412</td>\n",
       "      <td>0.781250</td>\n",
       "      <td>0.004027</td>\n",
       "      <td>14</td>\n",
       "    </tr>\n",
       "    <tr>\n",
       "      <th>17</th>\n",
       "      <td>0.328856</td>\n",
       "      <td>0.002953</td>\n",
       "      <td>0.024308</td>\n",
       "      <td>0.001417</td>\n",
       "      <td>30</td>\n",
       "      <td>75</td>\n",
       "      <td>median</td>\n",
       "      <td>{'randomforestclassifier__max_depth': 30, 'ran...</td>\n",
       "      <td>0.786765</td>\n",
       "      <td>0.772059</td>\n",
       "      <td>0.799632</td>\n",
       "      <td>0.775735</td>\n",
       "      <td>0.772059</td>\n",
       "      <td>0.781250</td>\n",
       "      <td>0.010655</td>\n",
       "      <td>14</td>\n",
       "    </tr>\n",
       "    <tr>\n",
       "      <th>1</th>\n",
       "      <td>0.136388</td>\n",
       "      <td>0.015291</td>\n",
       "      <td>0.017403</td>\n",
       "      <td>0.001801</td>\n",
       "      <td>10</td>\n",
       "      <td>25</td>\n",
       "      <td>median</td>\n",
       "      <td>{'randomforestclassifier__max_depth': 10, 'ran...</td>\n",
       "      <td>0.784926</td>\n",
       "      <td>0.777574</td>\n",
       "      <td>0.788603</td>\n",
       "      <td>0.772059</td>\n",
       "      <td>0.779412</td>\n",
       "      <td>0.780515</td>\n",
       "      <td>0.005766</td>\n",
       "      <td>16</td>\n",
       "    </tr>\n",
       "    <tr>\n",
       "      <th>23</th>\n",
       "      <td>0.317713</td>\n",
       "      <td>0.084233</td>\n",
       "      <td>0.020911</td>\n",
       "      <td>0.001830</td>\n",
       "      <td>40</td>\n",
       "      <td>75</td>\n",
       "      <td>median</td>\n",
       "      <td>{'randomforestclassifier__max_depth': 40, 'ran...</td>\n",
       "      <td>0.784926</td>\n",
       "      <td>0.772059</td>\n",
       "      <td>0.795956</td>\n",
       "      <td>0.773897</td>\n",
       "      <td>0.772059</td>\n",
       "      <td>0.779779</td>\n",
       "      <td>0.009402</td>\n",
       "      <td>17</td>\n",
       "    </tr>\n",
       "    <tr>\n",
       "      <th>9</th>\n",
       "      <td>0.276267</td>\n",
       "      <td>0.019350</td>\n",
       "      <td>0.023200</td>\n",
       "      <td>0.003763</td>\n",
       "      <td>20</td>\n",
       "      <td>50</td>\n",
       "      <td>median</td>\n",
       "      <td>{'randomforestclassifier__max_depth': 20, 'ran...</td>\n",
       "      <td>0.784926</td>\n",
       "      <td>0.766544</td>\n",
       "      <td>0.792279</td>\n",
       "      <td>0.772059</td>\n",
       "      <td>0.781250</td>\n",
       "      <td>0.779412</td>\n",
       "      <td>0.009154</td>\n",
       "      <td>18</td>\n",
       "    </tr>\n",
       "    <tr>\n",
       "      <th>21</th>\n",
       "      <td>0.239105</td>\n",
       "      <td>0.019390</td>\n",
       "      <td>0.022910</td>\n",
       "      <td>0.005015</td>\n",
       "      <td>40</td>\n",
       "      <td>50</td>\n",
       "      <td>median</td>\n",
       "      <td>{'randomforestclassifier__max_depth': 40, 'ran...</td>\n",
       "      <td>0.783088</td>\n",
       "      <td>0.773897</td>\n",
       "      <td>0.792279</td>\n",
       "      <td>0.777574</td>\n",
       "      <td>0.768382</td>\n",
       "      <td>0.779044</td>\n",
       "      <td>0.008171</td>\n",
       "      <td>19</td>\n",
       "    </tr>\n",
       "    <tr>\n",
       "      <th>15</th>\n",
       "      <td>0.254672</td>\n",
       "      <td>0.010317</td>\n",
       "      <td>0.023639</td>\n",
       "      <td>0.003486</td>\n",
       "      <td>30</td>\n",
       "      <td>50</td>\n",
       "      <td>median</td>\n",
       "      <td>{'randomforestclassifier__max_depth': 30, 'ran...</td>\n",
       "      <td>0.783088</td>\n",
       "      <td>0.773897</td>\n",
       "      <td>0.792279</td>\n",
       "      <td>0.773897</td>\n",
       "      <td>0.772059</td>\n",
       "      <td>0.779044</td>\n",
       "      <td>0.007659</td>\n",
       "      <td>19</td>\n",
       "    </tr>\n",
       "    <tr>\n",
       "      <th>11</th>\n",
       "      <td>0.382222</td>\n",
       "      <td>0.020914</td>\n",
       "      <td>0.026869</td>\n",
       "      <td>0.002703</td>\n",
       "      <td>20</td>\n",
       "      <td>75</td>\n",
       "      <td>median</td>\n",
       "      <td>{'randomforestclassifier__max_depth': 20, 'ran...</td>\n",
       "      <td>0.786765</td>\n",
       "      <td>0.768382</td>\n",
       "      <td>0.790441</td>\n",
       "      <td>0.768382</td>\n",
       "      <td>0.773897</td>\n",
       "      <td>0.777574</td>\n",
       "      <td>0.009301</td>\n",
       "      <td>21</td>\n",
       "    </tr>\n",
       "    <tr>\n",
       "      <th>19</th>\n",
       "      <td>0.137034</td>\n",
       "      <td>0.003385</td>\n",
       "      <td>0.015381</td>\n",
       "      <td>0.000456</td>\n",
       "      <td>40</td>\n",
       "      <td>25</td>\n",
       "      <td>median</td>\n",
       "      <td>{'randomforestclassifier__max_depth': 40, 'ran...</td>\n",
       "      <td>0.786765</td>\n",
       "      <td>0.757353</td>\n",
       "      <td>0.784926</td>\n",
       "      <td>0.768382</td>\n",
       "      <td>0.770221</td>\n",
       "      <td>0.773529</td>\n",
       "      <td>0.010993</td>\n",
       "      <td>22</td>\n",
       "    </tr>\n",
       "    <tr>\n",
       "      <th>7</th>\n",
       "      <td>0.165071</td>\n",
       "      <td>0.008161</td>\n",
       "      <td>0.017684</td>\n",
       "      <td>0.002135</td>\n",
       "      <td>20</td>\n",
       "      <td>25</td>\n",
       "      <td>median</td>\n",
       "      <td>{'randomforestclassifier__max_depth': 20, 'ran...</td>\n",
       "      <td>0.788603</td>\n",
       "      <td>0.753676</td>\n",
       "      <td>0.777574</td>\n",
       "      <td>0.764706</td>\n",
       "      <td>0.779412</td>\n",
       "      <td>0.772794</td>\n",
       "      <td>0.012227</td>\n",
       "      <td>23</td>\n",
       "    </tr>\n",
       "    <tr>\n",
       "      <th>13</th>\n",
       "      <td>0.154221</td>\n",
       "      <td>0.012206</td>\n",
       "      <td>0.022584</td>\n",
       "      <td>0.010499</td>\n",
       "      <td>30</td>\n",
       "      <td>25</td>\n",
       "      <td>median</td>\n",
       "      <td>{'randomforestclassifier__max_depth': 30, 'ran...</td>\n",
       "      <td>0.784926</td>\n",
       "      <td>0.757353</td>\n",
       "      <td>0.779412</td>\n",
       "      <td>0.775735</td>\n",
       "      <td>0.764706</td>\n",
       "      <td>0.772426</td>\n",
       "      <td>0.010028</td>\n",
       "      <td>24</td>\n",
       "    </tr>\n",
       "  </tbody>\n",
       "</table>\n",
       "</div>"
      ],
      "text/plain": [
       "    mean_fit_time  std_fit_time  mean_score_time  std_score_time  \\\n",
       "8        0.270529      0.010535         0.022717        0.002716   \n",
       "10       0.368780      0.017635         0.027126        0.003228   \n",
       "4        0.371405      0.016912         0.034057        0.012845   \n",
       "22       0.373660      0.049931         0.029056        0.007877   \n",
       "2        0.224361      0.019587         0.021962        0.002328   \n",
       "16       0.349450      0.020365         0.026412        0.003099   \n",
       "14       0.259915      0.014887         0.019751        0.000794   \n",
       "6        0.172200      0.020056         0.015850        0.001087   \n",
       "18       0.135398      0.007590         0.015676        0.000648   \n",
       "20       0.225101      0.003844         0.019153        0.000546   \n",
       "12       0.165427      0.004113         0.021409        0.006410   \n",
       "0        0.161048      0.013822         0.026134        0.008261   \n",
       "3        0.246848      0.027885         0.022637        0.004167   \n",
       "5        0.332750      0.030534         0.030916        0.007130   \n",
       "17       0.328856      0.002953         0.024308        0.001417   \n",
       "1        0.136388      0.015291         0.017403        0.001801   \n",
       "23       0.317713      0.084233         0.020911        0.001830   \n",
       "9        0.276267      0.019350         0.023200        0.003763   \n",
       "21       0.239105      0.019390         0.022910        0.005015   \n",
       "15       0.254672      0.010317         0.023639        0.003486   \n",
       "11       0.382222      0.020914         0.026869        0.002703   \n",
       "19       0.137034      0.003385         0.015381        0.000456   \n",
       "7        0.165071      0.008161         0.017684        0.002135   \n",
       "13       0.154221      0.012206         0.022584        0.010499   \n",
       "\n",
       "   param_randomforestclassifier__max_depth  \\\n",
       "8                                       20   \n",
       "10                                      20   \n",
       "4                                       10   \n",
       "22                                      40   \n",
       "2                                       10   \n",
       "16                                      30   \n",
       "14                                      30   \n",
       "6                                       20   \n",
       "18                                      40   \n",
       "20                                      40   \n",
       "12                                      30   \n",
       "0                                       10   \n",
       "3                                       10   \n",
       "5                                       10   \n",
       "17                                      30   \n",
       "1                                       10   \n",
       "23                                      40   \n",
       "9                                       20   \n",
       "21                                      40   \n",
       "15                                      30   \n",
       "11                                      20   \n",
       "19                                      40   \n",
       "7                                       20   \n",
       "13                                      30   \n",
       "\n",
       "   param_randomforestclassifier__n_estimators param_simpleimputer__strategy  \\\n",
       "8                                          50                          mean   \n",
       "10                                         75                          mean   \n",
       "4                                          75                          mean   \n",
       "22                                         75                          mean   \n",
       "2                                          50                          mean   \n",
       "16                                         75                          mean   \n",
       "14                                         50                          mean   \n",
       "6                                          25                          mean   \n",
       "18                                         25                          mean   \n",
       "20                                         50                          mean   \n",
       "12                                         25                          mean   \n",
       "0                                          25                          mean   \n",
       "3                                          50                        median   \n",
       "5                                          75                        median   \n",
       "17                                         75                        median   \n",
       "1                                          25                        median   \n",
       "23                                         75                        median   \n",
       "9                                          50                        median   \n",
       "21                                         50                        median   \n",
       "15                                         50                        median   \n",
       "11                                         75                        median   \n",
       "19                                         25                        median   \n",
       "7                                          25                        median   \n",
       "13                                         25                        median   \n",
       "\n",
       "                                               params  split0_test_score  \\\n",
       "8   {'randomforestclassifier__max_depth': 20, 'ran...           0.827206   \n",
       "10  {'randomforestclassifier__max_depth': 20, 'ran...           0.827206   \n",
       "4   {'randomforestclassifier__max_depth': 10, 'ran...           0.812500   \n",
       "22  {'randomforestclassifier__max_depth': 40, 'ran...           0.825368   \n",
       "2   {'randomforestclassifier__max_depth': 10, 'ran...           0.816176   \n",
       "16  {'randomforestclassifier__max_depth': 30, 'ran...           0.825368   \n",
       "14  {'randomforestclassifier__max_depth': 30, 'ran...           0.818015   \n",
       "6   {'randomforestclassifier__max_depth': 20, 'ran...           0.821691   \n",
       "18  {'randomforestclassifier__max_depth': 40, 'ran...           0.821691   \n",
       "20  {'randomforestclassifier__max_depth': 40, 'ran...           0.818015   \n",
       "12  {'randomforestclassifier__max_depth': 30, 'ran...           0.816176   \n",
       "0   {'randomforestclassifier__max_depth': 10, 'ran...           0.810662   \n",
       "3   {'randomforestclassifier__max_depth': 10, 'ran...           0.786765   \n",
       "5   {'randomforestclassifier__max_depth': 10, 'ran...           0.779412   \n",
       "17  {'randomforestclassifier__max_depth': 30, 'ran...           0.786765   \n",
       "1   {'randomforestclassifier__max_depth': 10, 'ran...           0.784926   \n",
       "23  {'randomforestclassifier__max_depth': 40, 'ran...           0.784926   \n",
       "9   {'randomforestclassifier__max_depth': 20, 'ran...           0.784926   \n",
       "21  {'randomforestclassifier__max_depth': 40, 'ran...           0.783088   \n",
       "15  {'randomforestclassifier__max_depth': 30, 'ran...           0.783088   \n",
       "11  {'randomforestclassifier__max_depth': 20, 'ran...           0.786765   \n",
       "19  {'randomforestclassifier__max_depth': 40, 'ran...           0.786765   \n",
       "7   {'randomforestclassifier__max_depth': 20, 'ran...           0.788603   \n",
       "13  {'randomforestclassifier__max_depth': 30, 'ran...           0.784926   \n",
       "\n",
       "    split1_test_score  split2_test_score  split3_test_score  \\\n",
       "8            0.805147           0.819853           0.812500   \n",
       "10           0.806985           0.818015           0.805147   \n",
       "4            0.814338           0.816176           0.799632   \n",
       "22           0.799632           0.812500           0.806985   \n",
       "2            0.814338           0.814338           0.806985   \n",
       "16           0.801471           0.810662           0.805147   \n",
       "14           0.799632           0.818015           0.805147   \n",
       "6            0.799632           0.819853           0.805147   \n",
       "18           0.792279           0.816176           0.814338   \n",
       "20           0.795956           0.818015           0.803309   \n",
       "12           0.792279           0.812500           0.814338   \n",
       "0            0.806985           0.806985           0.799632   \n",
       "3            0.786765           0.784926           0.777574   \n",
       "5            0.784926           0.786765           0.775735   \n",
       "17           0.772059           0.799632           0.775735   \n",
       "1            0.777574           0.788603           0.772059   \n",
       "23           0.772059           0.795956           0.773897   \n",
       "9            0.766544           0.792279           0.772059   \n",
       "21           0.773897           0.792279           0.777574   \n",
       "15           0.773897           0.792279           0.773897   \n",
       "11           0.768382           0.790441           0.768382   \n",
       "19           0.757353           0.784926           0.768382   \n",
       "7            0.753676           0.777574           0.764706   \n",
       "13           0.757353           0.779412           0.775735   \n",
       "\n",
       "    split4_test_score  mean_test_score  std_test_score  rank_test_score  \n",
       "8            0.808824         0.814706        0.007919                1  \n",
       "10           0.816176         0.814706        0.008004                1  \n",
       "4            0.816176         0.811765        0.006217                3  \n",
       "22           0.814338         0.811765        0.008512                4  \n",
       "2            0.805147         0.811397        0.004442                5  \n",
       "16           0.814338         0.811397        0.008270                5  \n",
       "14           0.801471         0.808456        0.008004                7  \n",
       "6            0.794118         0.808088        0.010943                8  \n",
       "18           0.794118         0.807721        0.012116                9  \n",
       "20           0.801471         0.807353        0.009035               10  \n",
       "12           0.794118         0.805882        0.010438               11  \n",
       "0            0.795956         0.804044        0.005403               12  \n",
       "3            0.775735         0.782353        0.004737               13  \n",
       "5            0.779412         0.781250        0.004027               14  \n",
       "17           0.772059         0.781250        0.010655               14  \n",
       "1            0.779412         0.780515        0.005766               16  \n",
       "23           0.772059         0.779779        0.009402               17  \n",
       "9            0.781250         0.779412        0.009154               18  \n",
       "21           0.768382         0.779044        0.008171               19  \n",
       "15           0.772059         0.779044        0.007659               19  \n",
       "11           0.773897         0.777574        0.009301               21  \n",
       "19           0.770221         0.773529        0.010993               22  \n",
       "7            0.779412         0.772794        0.012227               23  \n",
       "13           0.764706         0.772426        0.010028               24  "
      ]
     },
     "execution_count": 176,
     "metadata": {},
     "output_type": "execute_result"
    }
   ],
   "source": [
    "cv_results = pd.DataFrame(model_rf.cv_results_)\n",
    "cv_results.head(25).sort_values(\"rank_test_score\")\n"
   ]
  },
  {
   "cell_type": "code",
   "execution_count": 177,
   "id": "0aeb9ded",
   "metadata": {},
   "outputs": [
    {
     "data": {
      "image/png": "[encoded data removed]",
      "text/plain": [
       "<Figure size 432x288 with 1 Axes>"
      ]
     },
     "metadata": {
      "needs_background": "light"
     },
     "output_type": "display_data"
    }
   ],
   "source": [
    "# Create mask\n",
    "mask = cv_results[\"param_randomforestclassifier__max_depth\"] == 10\n",
    "# Plot fit time vs n_estimators\n",
    "plt.plot( cv_results[mask][\"param_randomforestclassifier__n_estimators\"],\n",
    "         cv_results[mask][\"mean_fit_time\"]\n",
    ")\n",
    "# Label axes\n",
    "plt.xlabel(\"Number of Estimators\")\n",
    "plt.ylabel(\"Mean Fit Time [seconds]\")\n",
    "plt.title(\"Training Time vs Estimators (max_depth=10)\");"
   ]
  },
  {
   "cell_type": "code",
   "execution_count": 178,
   "id": "41e91d3e",
   "metadata": {},
   "outputs": [
    {
     "data": {
      "text/html": [
       "<div>\n",
       "<style scoped>\n",
       "    .dataframe tbody tr th:only-of-type {\n",
       "        vertical-align: middle;\n",
       "    }\n",
       "\n",
       "    .dataframe tbody tr th {\n",
       "        vertical-align: top;\n",
       "    }\n",
       "\n",
       "    .dataframe thead th {\n",
       "        text-align: right;\n",
       "    }\n",
       "</style>\n",
       "<table border=\"1\" class=\"dataframe\">\n",
       "  <thead>\n",
       "    <tr style=\"text-align: right;\">\n",
       "      <th></th>\n",
       "      <th>mean_fit_time</th>\n",
       "      <th>param_randomforestclassifier__max_depth</th>\n",
       "      <th>param_simpleimputer__strategy</th>\n",
       "    </tr>\n",
       "  </thead>\n",
       "  <tbody>\n",
       "    <tr>\n",
       "      <th>0</th>\n",
       "      <td>0.161048</td>\n",
       "      <td>10</td>\n",
       "      <td>mean</td>\n",
       "    </tr>\n",
       "    <tr>\n",
       "      <th>1</th>\n",
       "      <td>0.136388</td>\n",
       "      <td>10</td>\n",
       "      <td>median</td>\n",
       "    </tr>\n",
       "    <tr>\n",
       "      <th>2</th>\n",
       "      <td>0.224361</td>\n",
       "      <td>10</td>\n",
       "      <td>mean</td>\n",
       "    </tr>\n",
       "    <tr>\n",
       "      <th>3</th>\n",
       "      <td>0.246848</td>\n",
       "      <td>10</td>\n",
       "      <td>median</td>\n",
       "    </tr>\n",
       "    <tr>\n",
       "      <th>4</th>\n",
       "      <td>0.371405</td>\n",
       "      <td>10</td>\n",
       "      <td>mean</td>\n",
       "    </tr>\n",
       "    <tr>\n",
       "      <th>5</th>\n",
       "      <td>0.332750</td>\n",
       "      <td>10</td>\n",
       "      <td>median</td>\n",
       "    </tr>\n",
       "  </tbody>\n",
       "</table>\n",
       "</div>"
      ],
      "text/plain": [
       "   mean_fit_time param_randomforestclassifier__max_depth  \\\n",
       "0       0.161048                                      10   \n",
       "1       0.136388                                      10   \n",
       "2       0.224361                                      10   \n",
       "3       0.246848                                      10   \n",
       "4       0.371405                                      10   \n",
       "5       0.332750                                      10   \n",
       "\n",
       "  param_simpleimputer__strategy  \n",
       "0                          mean  \n",
       "1                        median  \n",
       "2                          mean  \n",
       "3                        median  \n",
       "4                          mean  \n",
       "5                        median  "
      ]
     },
     "execution_count": 178,
     "metadata": {},
     "output_type": "execute_result"
    }
   ],
   "source": [
    "cv_results[mask][[\"mean_fit_time\", \"param_randomforestclassifier__max_depth\", \"param_simpleimputer__strategy\"]]"
   ]
  },
  {
   "cell_type": "code",
   "execution_count": 179,
   "id": "b03ea2da",
   "metadata": {},
   "outputs": [
    {
     "data": {
      "image/png": "[encoded data removed]",
      "text/plain": [
       "<Figure size 432x288 with 1 Axes>"
      ]
     },
     "metadata": {
      "needs_background": "light"
     },
     "output_type": "display_data"
    }
   ],
   "source": [
    "# Create mask\n",
    "mask = cv_results[\"param_randomforestclassifier__n_estimators\"] == 25\n",
    "# Plot fit time vs max_depth\n",
    "plt.plot(\n",
    "    cv_results[mask][\"param_randomforestclassifier__max_depth\"],\n",
    "    cv_results[mask][\"mean_fit_time\"]\n",
    ")\n",
    "# Label axes\n",
    "plt.xlabel(\"Max Depth\")\n",
    "plt.ylabel(\"Mean Fit Time [seconds]\")\n",
    "plt.title(\"Training Time vs Max Depth (n_estimators=25)\");"
   ]
  },
  {
   "cell_type": "code",
   "execution_count": 180,
   "id": "ecbaa957",
   "metadata": {},
   "outputs": [
    {
     "data": {
      "text/plain": [
       "array([0, 0, 0, ..., 0, 0, 0], dtype=int64)"
      ]
     },
     "execution_count": 180,
     "metadata": {},
     "output_type": "execute_result"
    }
   ],
   "source": [
    "# Extract best hyperparameters\n",
    "model_rf.predict(X_train)"
   ]
  },
  {
   "cell_type": "markdown",
   "id": "16688111",
   "metadata": {},
   "source": [
    "## Evaluate"
   ]
  },
  {
   "cell_type": "markdown",
   "id": "780b361f",
   "metadata": {},
   "source": [
    "#### Linear Regression accuracy score"
   ]
  },
  {
   "cell_type": "code",
   "execution_count": 181,
   "id": "dbe453fa",
   "metadata": {
    "scrolled": true
   },
   "outputs": [
    {
     "name": "stdout",
     "output_type": "stream",
     "text": [
      "Training Accuracy lr: 0.78\n",
      "Test Accuracy lr: 0.82\n"
     ]
    }
   ],
   "source": [
    "acc_train_lr = accuracy_score(y_train, model_lr.predict(X_train))\n",
    "acc_test_lr = model_lr.score(X_test, y_test)\n",
    "\n",
    "print(\"Training Accuracy lr:\", round(acc_train_lr, 2))\n",
    "print(\"Test Accuracy lr:\", round(acc_test_lr, 2))"
   ]
  },
  {
   "cell_type": "markdown",
   "id": "d64e1c05",
   "metadata": {},
   "source": [
    "#### Decision tree accuracy score"
   ]
  },
  {
   "cell_type": "code",
   "execution_count": 182,
   "id": "2aca8c4f",
   "metadata": {
    "scrolled": true
   },
   "outputs": [
    {
     "name": "stdout",
     "output_type": "stream",
     "text": [
      "Training Accuracy dt: 0.84\n",
      "Test Accuracy dt: 0.84\n"
     ]
    }
   ],
   "source": [
    "#acc_train = accuracy_score(y_train, model_dt.predict(X_train))\n",
    "acc_train_dt = model_dt.score(X_train, y_train)\n",
    "acc_test_dt = model_dt.score(X_test, y_test)\n",
    "\n",
    "print(\"Training Accuracy dt:\", round(acc_train_dt, 2))\n",
    "print(\"Test Accuracy dt:\", round(acc_test_dt, 2))"
   ]
  },
  {
   "cell_type": "code",
   "execution_count": 183,
   "id": "568e288c",
   "metadata": {},
   "outputs": [
    {
     "name": "stdout",
     "output_type": "stream",
     "text": [
      "Tree Depth: 4\n"
     ]
    }
   ],
   "source": [
    "tree_depth = model_dt.named_steps[\"decisiontreeclassifier\"].get_depth()\n",
    "print(\"Tree Depth:\", tree_depth)"
   ]
  },
  {
   "cell_type": "code",
   "execution_count": 184,
   "id": "883a5855",
   "metadata": {},
   "outputs": [],
   "source": [
    "depth_hyperparams = range(1,10,2)"
   ]
  },
  {
   "cell_type": "code",
   "execution_count": 185,
   "id": "d9bfe1ba",
   "metadata": {},
   "outputs": [
    {
     "name": "stdout",
     "output_type": "stream",
     "text": [
      "Training Accuracy Scores: [0.7801470588235294, 0.8290441176470589, 0.8400735294117647, 0.8525735294117647, 0.8742647058823529]\n",
      "Validation Accuracy Scores: [0.8161764705882353, 0.8470588235294118, 0.8352941176470589, 0.8176470588235294, 0.8]\n"
     ]
    }
   ],
   "source": [
    "training_acc = []\n",
    "validation_acc = []\n",
    "\n",
    "for d in depth_hyperparams:\n",
    "    # Create model with `max_depth` of `d`\n",
    "    test_model = make_pipeline(\n",
    "        OrdinalEncoder(),\n",
    "        SimpleImputer(),\n",
    "        DecisionTreeClassifier(max_depth=d,random_state=42)\n",
    "        )\n",
    "    # Fit model to training data\n",
    "    test_model.fit(X_train, y_train)\n",
    "    # Calculate training accuracy score and append to `training_acc`\n",
    "    training_acc.append(test_model.score(X_train,y_train))\n",
    "    # Calculate validation accuracy score and append to `training_acc`\n",
    "    validation_acc.append(test_model.score(X_test,y_test))\n",
    "\n",
    "print(\"Training Accuracy Scores:\", training_acc[:10])\n",
    "print(\"Validation Accuracy Scores:\", validation_acc[:10])"
   ]
  },
  {
   "cell_type": "code",
   "execution_count": 186,
   "id": "0d01bc4f",
   "metadata": {},
   "outputs": [
    {
     "data": {
      "image/png": "[encoded data removed]",
      "text/plain": [
       "<Figure size 432x288 with 1 Axes>"
      ]
     },
     "metadata": {
      "needs_background": "light"
     },
     "output_type": "display_data"
    }
   ],
   "source": [
    "# Plot `depth_hyperparams`, `training_acc`\n",
    "plt.plot(depth_hyperparams,training_acc, label = \"training\")\n",
    "plt.plot(depth_hyperparams,validation_acc, label = \"validation\")\n",
    "plt.xlabel(\"Accuracy Score\")\n",
    "plt.ylabel(\"Max Depth\")\n",
    "plt.legend();"
   ]
  },
  {
   "cell_type": "markdown",
   "id": "96cdfeee",
   "metadata": {},
   "source": [
    "#### RANDOM FOREST model performs"
   ]
  },
  {
   "cell_type": "code",
   "execution_count": 187,
   "id": "77b9c4c5",
   "metadata": {},
   "outputs": [
    {
     "name": "stdout",
     "output_type": "stream",
     "text": [
      "Training Accuracy: 0.9923\n",
      "Test Accuracy: 0.8412\n"
     ]
    }
   ],
   "source": [
    "acc_train = model_rf.score(X_train,y_train)\n",
    "acc_test = model_rf.score(X_test,y_test)\n",
    "print(\"Training Accuracy:\", round(acc_train, 4))\n",
    "print(\"Test Accuracy:\", round(acc_test, 4))"
   ]
  },
  {
   "cell_type": "code",
   "execution_count": 188,
   "id": "c117dc17",
   "metadata": {},
   "outputs": [
    {
     "data": {
      "text/plain": [
       "0    555\n",
       "1    125\n",
       "Name: Attrition, dtype: int64"
      ]
     },
     "execution_count": 188,
     "metadata": {},
     "output_type": "execute_result"
    }
   ],
   "source": [
    "y_test.value_counts()"
   ]
  },
  {
   "cell_type": "code",
   "execution_count": 189,
   "id": "5f739f25",
   "metadata": {},
   "outputs": [],
   "source": [
    "# Plot confusion matrix\n",
    "ConfusionMatrixDisplay.from_estimator(model_rf, X_test,y_test);"
   ]
  },
  {
   "cell_type": "markdown",
   "id": "093e81a4",
   "metadata": {},
   "source": [
    "## Communication"
   ]
  },
  {
   "cell_type": "markdown",
   "id": "81195e1d",
   "metadata": {},
   "source": [
    "#### Logestic Regression Result"
   ]
  },
  {
   "cell_type": "code",
   "execution_count": 190,
   "id": "679f2577",
   "metadata": {},
   "outputs": [
    {
     "data": {
      "text/plain": [
       "array([0, 0, 0, 0, 0, 0, 0, 0, 0, 0], dtype=int64)"
      ]
     },
     "execution_count": 190,
     "metadata": {},
     "output_type": "execute_result"
    }
   ],
   "source": [
    "model_lr.predict(X_train)[:10]"
   ]
  },
  {
   "cell_type": "code",
   "execution_count": 191,
   "id": "8617a3a8",
   "metadata": {},
   "outputs": [
    {
     "name": "stdout",
     "output_type": "stream",
     "text": [
      "[[0.82261282 0.17738718]\n",
      " [0.77479466 0.22520534]\n",
      " [0.77500985 0.22499015]\n",
      " [0.81646143 0.18353857]\n",
      " [0.77982957 0.22017043]]\n"
     ]
    }
   ],
   "source": [
    "y_train_pred_proba_lr = model_lr.predict_proba(X_train)\n",
    "print(y_train_pred_proba_lr[:5])"
   ]
  },
  {
   "cell_type": "code",
   "execution_count": 192,
   "id": "9fd40ad5",
   "metadata": {},
   "outputs": [],
   "source": [
    "features_lr = model_lr.named_steps[\"onehotencoder\"].get_feature_names()\n",
    "importances_lr = model_lr.named_steps[\"logisticregression\"].coef_[0]"
   ]
  },
  {
   "cell_type": "code",
   "execution_count": 193,
   "id": "bfcb2028",
   "metadata": {},
   "outputs": [
    {
     "data": {
      "text/plain": [
       "SECOND_TERM                -6.150034e-06\n",
       "COST_OF_ATTEND             -1.198734e-07\n",
       "STDNT_TEST_ENTRANCE_COMB   -3.037563e-08\n",
       "EST_FAM_CONTRIBUTION       -5.962555e-09\n",
       "STDNT_AGE                  -5.495717e-10\n",
       "dtype: float64"
      ]
     },
     "execution_count": 193,
     "metadata": {},
     "output_type": "execute_result"
    }
   ],
   "source": [
    "# Created a pandas Series named odds_ratios, where the index is features and the values are our the exponential of the importances\n",
    "\n",
    "feat_imp_lr = pd.Series((importances_lr ), index=features_lr ).sort_values()\n",
    "feat_imp_lr.head()"
   ]
  },
  {
   "cell_type": "code",
   "execution_count": 194,
   "id": "18cbf746",
   "metadata": {},
   "outputs": [
    {
     "data": {
      "image/png": "[encoded data removed]",
      "text/plain": [
       "<Figure size 432x288 with 1 Axes>"
      ]
     },
     "metadata": {
      "needs_background": "light"
     },
     "output_type": "display_data"
    }
   ],
   "source": [
    "# Horizontal bar chart, five largest coefficients\n",
    "feat_imp_lr.tail(5).plot(kind = \"barh\")\n",
    "plt.xlabel(\"Feature Importances\");"
   ]
  },
  {
   "cell_type": "code",
   "execution_count": 195,
   "id": "cc807872",
   "metadata": {},
   "outputs": [
    {
     "data": {
      "image/png": "[encoded data removed]",
      "text/plain": [
       "<Figure size 432x288 with 1 Axes>"
      ]
     },
     "metadata": {
      "needs_background": "light"
     },
     "output_type": "display_data"
    }
   ],
   "source": [
    "# Horizontal bar chart, five smallest coefficients\n",
    "feat_imp_lr.head(5).plot(kind = \"barh\")\n",
    "plt.xlabel(\"Features Importances\");"
   ]
  },
  {
   "cell_type": "markdown",
   "id": "670e073f",
   "metadata": {},
   "source": [
    "#### Decision Tree Classifier Result"
   ]
  },
  {
   "cell_type": "code",
   "execution_count": 196,
   "id": "83aecb82",
   "metadata": {},
   "outputs": [
    {
     "name": "stdout",
     "output_type": "stream",
     "text": [
      "Features_dt: Index(['STDNT_AGE', 'STDNT_GENDER', 'STDNT_BACKGROUND'], dtype='object')\n",
      "Importances_dt: [0.01076728 0.         0.        ]\n"
     ]
    }
   ],
   "source": [
    "features_dt = X_train.columns\n",
    "importances_dt = model_dt.named_steps[\"decisiontreeclassifier\"].feature_importances_\n",
    "\n",
    "print(\"Features_dt:\", features_dt[:3])\n",
    "print(\"Importances_dt:\", importances_dt[:3])"
   ]
  },
  {
   "cell_type": "code",
   "execution_count": 197,
   "id": "1dc4cbee",
   "metadata": {},
   "outputs": [
    {
     "data": {
      "text/plain": [
       "HOUSING_STS          0.0\n",
       "STDNT_GENDER         0.0\n",
       "STDNT_BACKGROUND     0.0\n",
       "IN_STATE_FLAG        0.0\n",
       "INTERNATIONAL_STS    0.0\n",
       "dtype: float64"
      ]
     },
     "execution_count": 197,
     "metadata": {},
     "output_type": "execute_result"
    }
   ],
   "source": [
    "feat_imp_dt = pd.Series(importances_dt, index=features_dt).sort_values()\n",
    "feat_imp_dt.head()"
   ]
  },
  {
   "cell_type": "code",
   "execution_count": 198,
   "id": "21d74087",
   "metadata": {},
   "outputs": [
    {
     "data": {
      "text/plain": [
       "1.0"
      ]
     },
     "execution_count": 198,
     "metadata": {},
     "output_type": "execute_result"
    }
   ],
   "source": [
    "feat_imp_dt.sum()"
   ]
  },
  {
   "cell_type": "code",
   "execution_count": 199,
   "id": "a576a248",
   "metadata": {},
   "outputs": [
    {
     "data": {
      "image/png": "[encoded data removed]",
      "text/plain": [
       "<Figure size 1152x576 with 1 Axes>"
      ]
     },
     "metadata": {
      "needs_background": "light"
     },
     "output_type": "display_data"
    }
   ],
   "source": [
    "# Create horizontal bar chart\n",
    "plt.figure(figsize=(16,8))\n",
    "feat_imp_dt.plot(kind = \"barh\")\n",
    "plt.xlabel(\"Gini Importance\")\n",
    "plt.ylabel(\"Feature\")\n",
    "plt.show()"
   ]
  },
  {
   "cell_type": "markdown",
   "id": "4edb4a00",
   "metadata": {},
   "source": [
    "#### Random Forest Result"
   ]
  },
  {
   "cell_type": "code",
   "execution_count": 202,
   "id": "a3a0cdd4",
   "metadata": {},
   "outputs": [
    {
     "data": {
      "image/png": "[encoded data removed]",
      "text/plain": [
       "<Figure size 1152x576 with 1 Axes>"
      ]
     },
     "metadata": {
      "needs_background": "light"
     },
     "output_type": "display_data"
    }
   ],
   "source": [
    "# Get feature names from training data\n",
    "features_rf = X_train.columns\n",
    "# Extract importances from model\n",
    "importances_rf = model_rf.best_estimator_.named_steps[\"randomforestclassifier\"].feature_importances_\n",
    "# Create a series with feature names and importances\n",
    "feat_imp_rf = pd.Series(importances_rf, index=features_rf).sort_values()\n",
    "# Plot 10 most important features\n",
    "plt.figure(figsize=(16,8))\n",
    "feat_imp_rf.plot(kind = \"barh\")\n",
    "plt.xlabel(\"Gini Importance\")\n",
    "plt.ylabel(\"Feature\")\n",
    "plt.title(\"Feature Importance\");"
   ]
  },
  {
   "cell_type": "code",
   "execution_count": null,
   "id": "4a1eb3eb",
   "metadata": {},
   "outputs": [],
   "source": []
  },
  {
   "cell_type": "markdown",
   "id": "f08116aa",
   "metadata": {},
   "source": [
    "### Conclusion : \n",
    "    \n",
    "##### It look like Random Forest is one of the best model to predict attrition rate.\n",
    "\n",
    "Training Accuracy: 0.9923\n",
    "\n",
    "Test Accuracy: 0.8412\n",
    "\n",
    "\n",
    "##### Decision tree Accuracy\n",
    "\n",
    "Training Accuracy dt: 0.84\n",
    "\n",
    "Test Accuracy dt: 0.84\n",
    "\n",
    "##### Logestic Regression\n",
    "\n",
    "Training Accuracy lr: 0.78\n",
    "\n",
    "Test Accuracy lr: 0.82"
   ]
  },
  {
   "cell_type": "markdown",
   "id": "fe87e3ba",
   "metadata": {},
   "source": [
    "# Business Questions: Leverage data on student demographic profile, course preferences, performance record, grades, financial background, financial aid and other application information to:"
   ]
  },
  {
   "cell_type": "markdown",
   "id": "3dd84bf4",
   "metadata": {},
   "source": [
    "## 1. Identify key drivers of early student attrition\n",
    "\n",
    "### Answer\n",
    "#### Feature 1 : SECOND_TERM_EARNED_HRS\n",
    "#### Feature 2 : HIGH_SCHL_GPA\n",
    "#### Feature 3 : STDNT_MAJOR\n",
    "#### Feature 4 : STDNT_TEST_ENTRANCE_COMB\n",
    "#### Feature 5 : UNMET_NEED\n",
    "#### Feature 6 : FIRST_TERM_EARNED_HRS\n"
   ]
  },
  {
   "cell_type": "markdown",
   "id": "c54217c2",
   "metadata": {},
   "source": [
    "## 2. Build a predictive model to identify students with higher early attrition risk\n",
    "\n",
    "### Build model DecisionTreeClassifier\n",
    "model_dt = make_pipeline(\n",
    "\n",
    "    OneHotEncoder(use_cat_names=True),\n",
    "    \n",
    "    SimpleImputer(),\n",
    "    \n",
    "    DecisionTreeClassifier(max_depth=4,random_state=42)\n",
    "    \n",
    ")\n",
    "\n",
    "### Build model Logistic Regression\n",
    "model_lr = make_pipeline(\n",
    "    \n",
    "    OneHotEncoder(use_cat_names=True),\n",
    "    \n",
    "    SimpleImputer(),\n",
    "    \n",
    "    LogisticRegression()\n",
    "\n",
    ")\n",
    "\n",
    "\n",
    "### Build model Random Forest \n",
    "Created a GridSearchCV named model that includes out classifier and hyperparameter grid\n",
    "\n",
    "\n",
    "\n",
    "clf = make_pipeline(OrdinalEncoder(),SimpleImputer(),RandomForestClassifier(random_state=42))\n",
    "\n",
    "params = {\n",
    "\n",
    "    \"simpleimputer__strategy\": [\"mean\", \"median\"],\n",
    "    \n",
    "    \"randomforestclassifier__n_estimators\": range(25,100,25),\n",
    "    \n",
    "    \"randomforestclassifier__max_depth\": range(10,50,10)\n",
    "\n",
    "}\n",
    "\n",
    "model_rf = GridSearchCV(\n",
    "\n",
    "    clf,\n",
    "    \n",
    "    param_grid=params,\n",
    "    \n",
    "    cv=5,\n",
    "    \n",
    "    n_jobs=-1,\n",
    "    \n",
    "    verbose=1\n",
    "\n",
    ")\n"
   ]
  },
  {
   "cell_type": "markdown",
   "id": "b983b944",
   "metadata": {},
   "source": [
    "## 3. Recommend appropriate interventions based on the analysis\n",
    "\n",
    "### Recomendations : \n",
    "\n",
    "\n",
    "#### 1. # Grade points earned by Student in Second & First semester could be increased by providing extra refresher classes.\n",
    "\n",
    "#### 2. Focus On Student's High School GPA score.\n",
    "\n",
    "#### 3. Student's Major course in University should be given priority.\n",
    "\n",
    "#### 4. Student's score calculated both on Entrance1 & Entrance2 score.\n",
    "\n",
    "#### 5. Unmet financial need of the student could be fulfilled by providing some kind of financial aid.\n"
   ]
  },
  {
   "cell_type": "code",
   "execution_count": null,
   "id": "e98b6042",
   "metadata": {},
   "outputs": [],
   "source": []
  }
 ],
 "metadata": {
  "kernelspec": {
   "display_name": "Python 3 (ipykernel)",
   "language": "python",
   "name": "python3"
  },
  "language_info": {
   "codemirror_mode": {
    "name": "ipython",
    "version": 3
   },
   "file_extension": ".py",
   "mimetype": "text/x-python",
   "name": "python",
   "nbconvert_exporter": "python",
   "pygments_lexer": "ipython3",
   "version": "3.9.7"
  }
 },
 "nbformat": 4,
 "nbformat_minor": 5
}
